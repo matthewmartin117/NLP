{
 "cells": [
  {
   "cell_type": "markdown",
   "id": "14e06a30-c7fa-49e6-8755-ee592ad0fb3a",
   "metadata": {},
   "source": [
    "## Problem 1: WordNet and Polysemy\n",
    "The polysemy of a word is the number of senses it has. Using WordNet, we can determine that the noun dog has 7 senses with: len(wn.synsets('dog', 'n')). Compute the average polysemy of nouns, verbs, adjectives and adverbs according to WordNet.  [Big hint: To get all of the noun synsets, you can use this method call: wn.all_synsets(pos='n').]  \n",
    "\n",
    "Please put this code (and whatever you use to test it) in a file called Problem1.py.\n",
    "\n",
    " "
   ]
  },
  {
   "cell_type": "code",
   "execution_count": 2,
   "id": "264cd820-2321-422a-b268-eb8f280bf808",
   "metadata": {},
   "outputs": [
    {
     "name": "stderr",
     "output_type": "stream",
     "text": [
      "[nltk_data] Downloading package wordnet to /home/jovyan/nltk_data...\n",
      "[nltk_data]   Package wordnet is already up-to-date!\n"
     ]
    },
    {
     "data": {
      "text/plain": [
       "True"
      ]
     },
     "execution_count": 2,
     "metadata": {},
     "output_type": "execute_result"
    }
   ],
   "source": [
    "import nltk\n",
    "from nltk.corpus import wordnet as wn\n",
    "nltk.download('wordnet')"
   ]
  },
  {
   "cell_type": "code",
   "execution_count": 3,
   "id": "89ec008c-8ac4-48ed-845b-270f5ddc6078",
   "metadata": {},
   "outputs": [
    {
     "data": {
      "text/plain": [
       "7"
      ]
     },
     "execution_count": 3,
     "metadata": {},
     "output_type": "execute_result"
    }
   ],
   "source": [
    "# polysemy the number of senses a word has\n",
    "len(wn.synsets('dog', 'n'))"
   ]
  },
  {
   "cell_type": "code",
   "execution_count": 4,
   "id": "21468081-0d8c-4eec-b754-2e07da5320b8",
   "metadata": {},
   "outputs": [],
   "source": [
    "nounsysnsets = list(wn.all_synsets(pos='n'))\n",
    "verbsynsets = list(wn.all_synsets(pos='v'))\n",
    "adjsynsets = list(wn.all_synsets(pos='a'))\n",
    "adverbsynsets = list(wn.all_synsets(pos='r'))"
   ]
  },
  {
   "cell_type": "code",
   "execution_count": 5,
   "id": "434defda-326f-4c97-87eb-c4dbdc426053",
   "metadata": {},
   "outputs": [
    {
     "name": "stdout",
     "output_type": "stream",
     "text": [
      "polysemy for nouns 1.229455449703446\n"
     ]
    }
   ],
   "source": [
    "# for nouns find the average \n",
    "# loop through nouns \n",
    "# init empty dict to keep the names\n",
    "nouncount = {}\n",
    "for synset in nounsysnsets:\n",
    "    for lemma in synset.lemmas():\n",
    "        word = lemma.name()\n",
    "        nouncount[word]= nouncount.get(word,0)+ 1\n",
    "total = sum(nouncount.values())\n",
    "avg = total/ len(nouncount)\n",
    "print(\"polysemy for nouns\", avg)"
   ]
  },
  {
   "cell_type": "code",
   "execution_count": 6,
   "id": "8ce0da8d-bf74-402b-abf8-40e0efc28b4e",
   "metadata": {},
   "outputs": [
    {
     "name": "stdout",
     "output_type": "stream",
     "text": [
      "polysemy for verbs 2.1721446535426243\n"
     ]
    }
   ],
   "source": [
    "# for verbs find the average \n",
    "# loop through verbs \n",
    "# init empty dict to keep the names\n",
    "verbcount = {}\n",
    "for synset in verbsynsets:\n",
    "    for lemma in synset.lemmas():\n",
    "        word = lemma.name()\n",
    "        verbcount[word]= verbcount.get(word,0)+ 1\n",
    "total = sum(verbcount.values())\n",
    "avg = total/ len(verbcount)\n",
    "print(\"polysemy for verbs\", avg)"
   ]
  },
  {
   "cell_type": "code",
   "execution_count": 7,
   "id": "f8376773-cce6-456f-8c51-5a18bd45b52e",
   "metadata": {},
   "outputs": [
    {
     "name": "stdout",
     "output_type": "stream",
     "text": [
      "polysemy for adjectives 1.3930727087009007\n"
     ]
    }
   ],
   "source": [
    "# for adj find the average \n",
    "# loop through adj \n",
    "# init empty dict to keep the names\n",
    "adjcount = {}\n",
    "for synset in adjsynsets:\n",
    "    for lemma in synset.lemmas():\n",
    "        word = lemma.name()\n",
    "        adjcount[word]= adjcount.get(word,0)+ 1\n",
    "total = sum(adjcount.values())\n",
    "avg = total/ len(adjcount)\n",
    "print(\"polysemy for adjectives\", avg)"
   ]
  },
  {
   "cell_type": "code",
   "execution_count": 8,
   "id": "eca1ca34-3b04-44e9-b80d-debab70781cc",
   "metadata": {},
   "outputs": [
    {
     "name": "stdout",
     "output_type": "stream",
     "text": [
      "polysemy for adverbs 1.2452577549654096\n"
     ]
    }
   ],
   "source": [
    "# for adverbs find the average \n",
    "# loop through adverbs \n",
    "# init empty dict to keep the names\n",
    "adverbcount = {}\n",
    "for synset in adverbsynsets:\n",
    "    for lemma in synset.lemmas():\n",
    "        word = lemma.name()\n",
    "        adverbcount[word]= adverbcount.get(word,0)+ 1\n",
    "total = sum(adverbcount.values())\n",
    "avg = total/ len(adverbcount)\n",
    "print(\"polysemy for adverbs\", avg)"
   ]
  },
  {
   "cell_type": "markdown",
   "id": "cc13bd5c-b093-4f54-a846-6eea6eb50d76",
   "metadata": {},
   "source": [
    "## Problem 2: Word Similarity\n",
    "Use one of the predefined NLTK similarity measures to score the similarity of each of the following pairs of words. Rank the pairs in order of decreasing similarity. How close is your ranking to the order given here, an order that was established experimentally by (Miller & Charles, 1998): car-automobile, gem-jewel, journey-voyage, boy-lad, coast-shore, asylum-madhouse, magician-wizard, midday-noon, furnace-stove, food-fruit, bird-cock, bird-crane, tool-implement, brother-monk, lad-brother, crane-implement, journey-car, monk-oracle, cemetery-woodland, food-rooster, coast-hill, forest-graveyard, shore-woodland, monk-slave, coast-forest, lad-wizard, chord-smile, glass-magician, rooster-voyage, noon-strin"
   ]
  },
  {
   "cell_type": "code",
   "execution_count": 9,
   "id": "f7138819-564b-4098-8323-84907d75dd6b",
   "metadata": {},
   "outputs": [
    {
     "name": "stdout",
     "output_type": "stream",
     "text": [
      "(('car', 'automobile'), 1.0)\n",
      "(('gem', 'jewel'), 1.0)\n",
      "(('magician', 'wizard'), 1.0)\n",
      "(('midday', 'noon'), 1.0)\n",
      "(('journey', 'voyage'), 0.5)\n",
      "(('boy', 'lad'), 0.5)\n",
      "(('coast', 'shore'), 0.5)\n",
      "(('asylum', 'madhouse'), 0.5)\n",
      "(('bird', 'cock'), 0.5)\n",
      "(('tool', 'implement'), 0.5)\n",
      "(('brother', 'monk'), 0.5)\n",
      "(('bird', 'crane'), 0.25)\n",
      "(('lad', 'brother'), 0.2)\n",
      "(('crane', 'implement'), 0.2)\n",
      "(('coast', 'hill'), 0.2)\n",
      "(('shore', 'woodland'), 0.2)\n",
      "(('monk', 'slave'), 0.2)\n",
      "(('lad', 'wizard'), 0.2)\n",
      "(('coast', 'forest'), 0.16666666666666666)\n",
      "(('monk', 'oracle'), 0.125)\n",
      "(('glass', 'magician'), 0.125)\n",
      "(('cemetery', 'woodland'), 0.1111111111111111)\n",
      "(('forest', 'graveyard'), 0.1111111111111111)\n",
      "(('furnace', 'stove'), 0.1)\n",
      "(('food', 'fruit'), 0.1)\n",
      "(('chord', 'smile'), 0.09090909090909091)\n",
      "(('noon', 'string'), 0.08333333333333333)\n",
      "(('food', 'rooster'), 0.0625)\n",
      "(('journey', 'car'), 0.05555555555555555)\n",
      "(('rooster', 'voyage'), 0.041666666666666664)\n"
     ]
    }
   ],
   "source": [
    "word_pairs = [\n",
    "    (\"car\", \"automobile\"),\n",
    "    (\"gem\", \"jewel\"),\n",
    "    (\"journey\", \"voyage\"),\n",
    "    (\"boy\", \"lad\"),\n",
    "    (\"coast\", \"shore\"),\n",
    "    (\"asylum\", \"madhouse\"),\n",
    "    (\"magician\", \"wizard\"),\n",
    "    (\"midday\", \"noon\"),\n",
    "    (\"furnace\", \"stove\"),\n",
    "    (\"food\", \"fruit\"),\n",
    "    (\"bird\", \"cock\"),\n",
    "    (\"bird\", \"crane\"),\n",
    "    (\"tool\", \"implement\"),\n",
    "    (\"brother\", \"monk\"),\n",
    "    (\"lad\", \"brother\"),\n",
    "    (\"crane\", \"implement\"),\n",
    "    (\"journey\", \"car\"),\n",
    "    (\"monk\", \"oracle\"),\n",
    "    (\"cemetery\", \"woodland\"),\n",
    "    (\"food\", \"rooster\"),\n",
    "    (\"coast\", \"hill\"),\n",
    "    (\"forest\", \"graveyard\"),\n",
    "    (\"shore\", \"woodland\"),\n",
    "    (\"monk\", \"slave\"),\n",
    "    (\"coast\", \"forest\"),\n",
    "    (\"lad\", \"wizard\"),\n",
    "    (\"chord\", \"smile\"),\n",
    "    (\"glass\", \"magician\"),\n",
    "    (\"rooster\", \"voyage\"),\n",
    "    (\"noon\", \"string\"),\n",
    "]\n",
    "# for each pair we want to make a dictionary with the pair and similarity score \n",
    "def CalcWordSimilarity(pairs):\n",
    "    dictionary = {}\n",
    "    # loop through each\n",
    "    for pair in pairs:\n",
    "        word1 = pair[0]\n",
    "        word2 = pair[1]\n",
    "        # get the synset of each word \n",
    "        syn1 = wn.synsets(word1,pos='n')\n",
    "        syn2 = wn.synsets(word2,pos='n')\n",
    "        # init a var for max_sim \n",
    "        max_sim = 0\n",
    "        # nested loop to calculate similarity for each synset to the each synset in the other word\n",
    "        for s1 in syn1:\n",
    "            for s2 in syn2:\n",
    "                sim = s1.path_similarity(s2)\n",
    "                # if the similarity is higher than the current similarity , can replace it \n",
    "                if sim > max_sim:\n",
    "                    max_sim = sim\n",
    "        # after the max similarity between the         \n",
    "        dictionary[pair] = max_sim\n",
    "\n",
    "\n",
    "    # take the words and print them in decreasing order\n",
    "    sorted_pairs = sorted(dictionary.items(), key=lambda x: x[1], reverse=True)\n",
    "    for pair in sorted_pairs:\n",
    "        print(pair)\n",
    "\n",
    "\n",
    "\n",
    "CalcWordSimilarity(word_pairs)\n",
    "\n",
    "\n",
    "        \n",
    "    "
   ]
  },
  {
   "cell_type": "markdown",
   "id": "74408209-7c43-4f78-b3c0-351bde37ef7f",
   "metadata": {},
   "source": [
    "## Problem 3: Brown Corpus and Part-of-Speech Tagsets\n",
    "NLTK Chapter 5 has some great example programs to support these questions.\n",
    "\n",
    "Write programs to process the Brown Corpus and find answers to the following questions:"
   ]
  },
  {
   "cell_type": "markdown",
   "id": "f28808ee-6b60-4773-8c9a-1eb65d19a216",
   "metadata": {},
   "source": [
    "1. Which nouns are more common in their plural form, rather than their singular form? (Only consider regular plurals, formed with the -s)  Hint:  Here is a bit of code to find all singular nouns and all plural nouns: "
   ]
  },
  {
   "cell_type": "code",
   "execution_count": 3,
   "id": "20a553d1-4520-4d55-8df7-f316a575ec5a",
   "metadata": {
    "scrolled": true
   },
   "outputs": [],
   "source": [
    "# import the brown corpus \n",
    "from nltk.corpus import brown\n",
    "taggedWords = nltk.corpus.brown.tagged_words()\n",
    "\n",
    "# find all the singular nouns and plural nouns in the brown corpus\n",
    "taggedWords = brown.tagged_words()\n",
    "singularNouns = [w.lower() for (w, p) in taggedWords if p == 'NN']\n",
    "pluralNouns   = [w.lower() for (w, p) in taggedWords if p == 'NNS']"
   ]
  },
  {
   "cell_type": "code",
   "execution_count": 5,
   "id": "57f0b0aa-be75-47be-a4ce-964272134f42",
   "metadata": {},
   "outputs": [],
   "source": [
    "# calc a freq distribution for each word\n",
    "sN = nltk.FreqDist(singularNouns)\n",
    "pN = nltk.FreqDist(pluralNouns)"
   ]
  },
  {
   "cell_type": "code",
   "execution_count": 8,
   "id": "4cc18ea0-24f9-47c3-8119-0381135c6809",
   "metadata": {
    "scrolled": true
   },
   "outputs": [
    {
     "name": "stdout",
     "output_type": "stream",
     "text": [
      "Words where plural is more common (regular -s): ['levies', 'barflies', 'mollusks', 'housewives', 'memoirs', 'spades', 'courtyards', 'depressions', 'dissolutions', 'jumps', 'myofibrils', 'unifications', 'beetles', 'sons', 'poems', 'prospects', 'polishes', 'reappraisals', 'furrows', 'puppies', 'infections', 'interviewers', 'crossroads', 'planets', 'potatoes', 'iodocompounds', 'souvenirs', 'dictates', 'cloakrooms', 'dollars', 'chunks', 'sentiments', 'informants', 'salaries', 'cloisters', 'slopes', 'lags', 'bards', 'maniacs', 'facades', 'probes', 'larks', 'essentials', 'feasts', 'attainments', 'populations', 'offences', 'mid-fifties', 'agnostics', 'preambles', 'handspikes', 'vicissitudes', 'magicians', 'tidings', 'heaps', 'occurrences', '90-degrees', 'flavorings', 'blizzards', 'skirts', 'share-holders', 'academics', \"1840's\", 'experimenters', 'deficiencies', 'auxiliaries', 'ones', 'preparations', 'shades', 'shares', 'hooks', 'exclusions', 'ladies', 'dinners', 'olives', 'walkways', 'azaleas', 'certificates', 'dewars', 'minutes', 'innovators', 'pansies', 'cases', 'drifts', 'clothes', 'coolers', 'notions', 'personalities', 'prognoses', 'belles', 'pennants', 'lifts', 'revels', 'middles', 'favors', 'daffodils', 'comedians', 'encores', 'reverberations', 'thickets', 'turnings', 'hikes', 'lakes', 'shoelaces', 'soft-drinks', 'strivings', 'tricks', 'qualifications', 'incumbents', 'shunts', 'allusions', 'admirers', 'pigments', 'serfs', 'thrills', 'bows', 'chaps', 'tubs', 'bathrooms', 'bushes', 'electors', 'recommendations', 'neutrophils', 'do(c)ters', 'rascals', 'sceneries', 'invalids', 'allegiances', 'bads', 'muffins', 'honors', 'drugstores', 'acorns', 'thumbs', 'midsts', 'sandals', 'revisions', 'liens', 'beaches', 'botanists', 'games', 'sallies', 'magnitudes', 'gunners', 'trunks', 'bubbles', 'bulletins', 'masts', 'redwoods', 'constituents', 'drills', 'circumstances', 'collegians', 'megatons', 'trenches', 'apologies', 'fountains', 'ballets', 'sections', 'draperies', 'stresses', 'miles', 'broadcastings', 'hostilities', 'perspectives', 'wheels', 'dictators', 'years', 'necessities', 'convicts', 'communes', 'presentments', 'pores', 'hosses', 'contests', 'museums', 'emperors', 'editors', 'antagonisms', 'theaters', 'pods', 'precincts', 'rookies', 'recruits', 'supermarkets', 'diehards', 'stabilizers', 'billboards', 'bloodspots', 'honeymooners', 'periodicals', 'gear-sets', 'handlebars', 'cooperatives', 'disks', 'odors', 'gages', 'phases', 'marks', 'price-earnings', 'dervishes', 'rests', 'hurts', 'rupees', 'indictments', 'landscapes', 'exaggerations', 'orators', 'flaws', 'competitors', 'accountants', 'slashes', 'prints', 'timberlands', 'dealers', 'decorations', 'flares', 'capabilities', 'interrelations', 'footballs', 'responsibilities', 'dactyls', 'pinks', 'winters', 'homers', 'techniques', 'civil-rights', 'meters', 'dieters', 'pigs', 'influences', 'places', 'janitors', 'pastilles', 'bones', 'kitchens', 'clashes', 'pills', 'hundreds', 'directives', 'gusts', 'matches', 'puddings', 'gadgets', 'baptisms', 'deals', 'kickbacks', 'importunities', 'sub-chiefs', 'homeowners', 'dives', 'hilltops', 'wails', 'chattels', 'roasts', 'sunshades', 'bishops', 'fins', 'gashes', 'blips', 'rigids', 'motel-keepers', 'landings', 'proportions', 'crofters', 'haircuts', 'peppermints', 'gallstones', 'hindquarters', 'huts', 'terrorists', 'palates', 'weekends', 'sarcasms', 'gypsies', 'predictors', 'bells', 'spires', 'registrations', 'inspections', 'fangs', 'fatalists', 'suspensions', 'mutinies', 'guarantees', 'speculations', 'frustrations', 'fucks', 'birches', 'collaborators', 'keeps', 'pagodas', 'mediocrities', \"don't-know's\", 'cramps', 'wares', 'standards', 'chapters', 'productions', 'points', 'cruisers', 'treaties', 'precedents', 'outs', 'sorrows', 'ridges', 'honeybees', 'chartings', 'outcomes', 'manufacturers', 'families', 'lithographs', 'postcards', 'emissaries', 'agents', 'concerns', 'developments', 'rheumatics', 'pickets', 'distillers', 'glaciers', 'battlefields', 'thills', 'ropes', 'harbors', 'buttons', 'brokers', 'laws', 'taps', 'devotees', 'blues', 'rhythms', 'recipes', 'statutes', 'topcoats', 'mortgages', 'escapades', 'telescopes', 'rules', 'defeatists', 'obscurities', 'potboilers', 'teamsters', 'vineyards', 'uniforms', 'veterans', 'prerogatives', 'characteristics', 'spheres', 'levels', 'thermometers', 'off-flavors', 'lectures', 'orchards', 'panders', 'cartoons', 'sprays', 'environments', 'ecumenists', 'masters', 'products', 'explanations', 'machine-masters', 'refinements', 'natures', 'muscles', 'valleys', 'skunks', 'likes', 'biographers', 'missionaries', 'timetables', 'answers', 'drives', 'bloops', 'auditions', 'ramblings', 'gassings', 'interiors', 'sluggers', 'exhibitions', 'states', 'stunts', 'mysticisms', 'ways', 'warnings', 'feeds', 'observations', 'lyrics', 'pogroms', 'hydrocarbons', 'raptures', 'regulations', 'beauties', 'commands', 'buttresses', 'squeals', 'tirades', 'three-quarters', 'newsletters', 'skinfolds', 'hells', 'titles', 'grandfathers', 'fits', 'nibblers', 'buckets', 'word-games', 'fixtures', 'accolades', 'yachters', 'writs', 'pulleys', 'booths', \"1950's\", 'hemlocks', 'shackles', 'torsos', 'laboratories', 'hands', 'forms', 'alleys', 'shadings', 'documentaries', 'consequences', 'forays', 'professors', 'motorists', 'pitfalls', 'weeds', 'pebbles', 'determinants', 'flagpoles', 'nightingales', 'fungicides', 'thermocouples', 'bunkmates', 'chartists', 'consoles', 'hookups', 'contents', 'gyroscopes', 'arcs', 'tranquilizers', 'stops', 'push-ups', 'bibliophiles', 'compensations', 'brothers', 'hartes', 'overshoes', 'days', 'receptions', 'taunts', 'aromas', 'dummies', 'peccadilloes', 'quarters', 'rabbits', 'shifters', 'coloreds', 'pulsations', 'bloods', 'submissions', 'lacerations', 'soddies', 'squares', 'divers', 'dramas', 'stings', 'rattlers', 'tables', 'religions', 'quacks', 'ceremonies', 'eyeballs', 'thrones', 'lads', 'relishes', 'co-signers', 'couches', 'grandmothers', 'evolutionists', 'handles', 'hides', 'calculations', 'contours', 'half-brothers', 'thanks', 'railroads', 'heritages', 'treats', 'movies', 'wads', 'awards', 'beads', 'misconceptions', 'condolences', 'joints', 'occupants', 'stakes', 'handicrafts', 'greetings', 'deerskins', 'silicates', 'floodheads', 'babies', 'notebooks', 'basements', 'chowders', 'proverbs', 'consderations', 'dualities', 'cares', 'messengers', 'cams', 'debates', 'steps', 'doubts', 'affiliates', 'actualities', 'classifiers', 'units', 'catkins', 'says', 'shillings', 'settlers', 'smokers', 'languages', 'legislatures', 'lawyers', 'showers', 'tabulations', 'soldier-masters', 'toe-tips', 'chapels', 'pathways', 'programs', 'submarines', 'hawkers', 'principals', 'slickers', 'specialties', 'brutalities', 'duels', 'petitions', 'hours', 'casks', 'non-readers', 'fatalities', 'adenomas', 'rims', 'ingredients', 'dragons', 'processes', 'millionaires', 'mutterers', 'friends', 'monopolies', 'pitches', 'buckaroos', 'loudspeakers', 'commissioners', 'chemicals', 'meadows', 'taboos', 'refugees', 'fights', 'memories', 'confidences', 'hollows', 'jerkings', 'spoilables', 'fund-raisers', 'restrictions', 'bugs', 'anecdotes', 'amines', 'coconuts', 'robberies', 'shorts', 'aces', 'tits', 'cameos', 'potentials', 'spirits', 'ex-liberals', 'grenades', 'solids', 'norms', 'affairs', 'dimensions', 'prisons', 'brushes', 'inhibitors', 'calluses', 'entrepreneurs', 'whispers', 'fats', 'cracks', 'imbalances', 'stories', 'imports', 'buses', 'shreds', 'taverns', 'camellias', 'elephants', 'paraphrases', 'tortures', 'plaintiffs', 'catalogues', 'democracies', 'economies', 'preoccupations', 'cushions', 'reservations', 'controls', 'wall-flowers', 'overtures', 'modulations', 'turtlebacks', 'licenses', 'advertisers', 'banquets', 'failures', 'homecomings', 'drinkers', 'newspapers', 'expectations', 'fates', 'graces', 'gods', 'colonels', 'inductees', 'dependents', 'turnouts', 'remembrances', 'lanes', 'appliques', 'nonshifters', 'incidentals', 'drinks', 'compounds', 'chrysanthemums', 'roosters', 'accelerators', 'priests', 'crowds', 'kits', 'voyages', 'delinquents', 'shocks', 'snowballs', 'scrapings', 'fiddles', 'reflectors', 'shortages', 'stoppages', 'deeds', 'panels', 'fellers', 'donors', 'presumptions', 'guidelines', 'congratulations', 'epithets', 'catchers', 'terrours', 'ramifications', 'bags', \"'30s\", 'pool-owners', 'chromatics', 'shafts', 'raindrops', 'bleats', 'maneuvers', 'measures', 'files', 'trailers', 'screenings', 'engineers', 'locations', 'in-groups', 'industries', 'males', 'arpeggios', 'bayonets', 'apportionments', 'debs', 'clouds', 'rigs', 'stewardesses', 'nouns', 'declarations', 'seedlings', 'upsets', 'rulings', 'burrs', 'suburbs', 'towboats', 'sirs', 'schoolmates', 'switches', 'boulevards', 'backers', 'villages', 'crinkles', 'echoes', 'italics', 'weeklies', 'trellises', 'palazzos', '200-degrees', 'carcasses', 'bums', 'sleeves', 'contribs', 'runners', 'lackeys', 'lenses', 'conquerors', 'soles', 'contemporaries', 'denominations', 'drawing-rooms', 'volunteers', 'dimes', 'judiciaries', 'inventories', 'pines', 'histories', 'phonies', 'clinics', 'preferences', 'separators', 'mounds', 'epicycles', 'concentrations', 'naps', 'agitators', 'servings', 'cradles', 'oysters', 'streetcars', 'greens', 'pistoleers', 'ballgowns', 'spenders', 'requests', 'designations', 'oceans', 'restorers', 'motives', 'dogs', 'campaigns', 'senders', 'bestes', 'endeavors', 'gunfights', 'winners', 'bonds', 'loans', 'maturities', 'hackers', 'objectives', 'pens', 'daises', 'cuttings', 'bronchioles', 'suggestions', 'portions', 'lay-offs', 'shoestrings', 'doors', 'weirs', 'bumpers', 'photofloodlights', 'rations', 'compliments', 'extravaganzas', 'awnings', 'merchants', 'calibers', 'invitations', 'hiccups', 'gardens', 'believers', 'mates', 'polymers', 'chaplains', 'turtles', 'caskets', 'teachers', 'twenties', 'boundaries', 'tails', 'heirs', 'anti-communists', 'tackles', 'suits', 'professions', 'farces', 'scraps', 'sympathies', 'decimals', 'negotiations', 'exclamations', 'bookcases', 'injuries', 'battles', 'communications', 'jars', 'cleanups', 'flashes', 'densities', 'watercolors', 'handicaps', 'coworkers', 'picks', 'hostesses', 'fathoms', 'subjects', 'herds', 'foundations', 'rhythm-and-blues', 'graduates', 'reputations', 'bleedings', 'reprints', 'culprits', 'parcels', 'rigors', 'greenhouses', 'environs', 'expenses', 'thieves', 'tenets', 'rooms', 'clippings', 'statues', 'deposits', 'eventualities', 'three-fourths', 'bibles', \"1900's\", 'coordinates', 'fans', 'grade-equivalents', 'exhibitors', 'expeditions', 'phones', 'fascicles', 'blackbirds', 'involutions', 'tangos', 'stamens', 'memory-images', 'eardrums', 'others', 'visitors', 'beginnings', 'constrictors', 'blouses', 'extensions', 'dystopias', 'timers', 'parodies', 'stairways', 'costs', 'gentians', 'stacks', 'geographers', 'spectacles', 'luncheons', 'gangsters', 'allegations', 'walls', 'patrols', 'localisms', 'foreheads', 'cysts', 'realities', 'crashes', 'yaws', 'reviews', 'officials', 'grips', 'gastronomes', 'makeshifts', 'layers', 'fingertips', 'redcoats', 'aborigines', 'lids', 'turnips', 'technicians', \"80's\", 'acoustics', 'rages', 'ferries', 'reasons', 'purveyors', 'moccasins', 'favorites', 'rocket-bombs', 'loaves', 'curriculums', 'drones', 'coverings', 'behaviors', 'realtors', 'collectors', 'ringlets', 'yachts', 'beginners', 'airstrips', 'tutorials', 'planetoids', 'integrals', 'plugs', 'sippers', 'crosses', 'intersections', 'irruptions', 'reinforcements', 'daughters', 'sins', 'rapists', 'breakdowns', 'regulars', 'gyrations', 'subspecies', 'phonographs', 'capacities', 'shams', 'officeholders', 'irregulars', 'legions', 'treasuries', 'formations', 'conferences', 'prams', 'mourners', 'scissors', 'bureaucrats', 'vanities', \"bull's-eyes\", 'gems', 'meteors', 'launderings', 'chiefdoms', 'suspenders', 'gobblers', 'hostages', 'miscalculations', 'refunds', 'nets', 'cofactors', 'robes', 'inconsistencies', 'instrumentalists', 'dialogues', 'idiosyncrasies', 'marshlands', 'dynodes', 'arguments', 'violations', 'words', 'commoners', 'backbends', 'confinements', 'tips', 'smiles', 'mails', 'faiths', 'adversaries', 'motorscooters', 'secularists', 'openings', 'contrivances', 'simplicities', 'demons', 'drafters', 'designs', 'reds', 'adagios', 'gallants', 'blades', 'livers', 'prayers', 'arrowheads', 'cinders', 'cufflinks', 'feelers', 'dividends', 'disagreements', 'impressionists', 'districts', 'ayes', 'saloons', 'quantities', 'filets', 'concessionaires', 'rationalizations', 'ethics', 'wrists', 'bombings', 'strays', 'horrors', 'grains', 'genes', 'sinews', 'rentals', 'weapons', 'exceptions', 'overtones', 'schooldays', 'whyfores', 'sluices', 'offensives', 'classrooms', 'extractors', '79-cents', 'decks', 'ghosts', 'presences', 'donations', 'dealerships', 'changes', 'objections', 'flags', 'glimpses', 'shorelines', 'treetops', 'octaves', 'proceedings', 'plainclothes', 'caliphs', 'glasses', 'numbers', 'neutralists', 'valves', 'wins', 'thrusts', 'generals', 'cafeterias', 'manes', 'learners', 'fittings', 'dumbbells', 'heels', 'racists', 'claimants', 'suitors', 'steers', 'nieces', 'breasts', 'patents', 'crackpots', 'theologian-philosophers', 'sweetpeas', 'opponents', 'generations', 'sergeants', 'jungles', 'nomias', 'promenades', 'gibes', 'gourmets', 'pastimes', 'crews', 'headstands', 'boilers', 'logarithms', 'armchairs', 'chairs', 'recordings', 'insiders', 'medallions', 'confrontations', 'employers', 'pellets', 'assessors', 'gradients', 'quarrels', 'grammarians', 'planes', 'jobs', 'crowns', 'thorns', 'pajamas', 'hormones', 'fairgoers', 'franks-in-buns', 'intervals', 'biddies', 'fluids', 'agreements', 'kilowatts', 'resultants', 'devils', 'percentages', 'flights', 'deputies', 'boys', 'corners', 'laborers', 'drivers', 'non-objects', 'hemorrhages', 'forte-pianos', 'actives', 'assertions', 'shortcomings', 'nymphs', 'wounds', 'elegances', 'consultations', 'prolusions', 'wash-outs', 'tabernacles', 'denunciations', 'pubs', 'schoolers', 'interpolations', 'equilibriums', 'suites', 'refectories', 'replacements', 'monochromes', 'speeds', 'chroniclers', 'superlatives', 'accusations', 'visions', 'dissenters', 'fires', 'blueberries', 'takeoffs', 'co-workers', 'lapels', 'layoffs', 'joiners', 'essayists', 'opinions', 'hoes', 'elders', 'nubbins', 'pricks', 'diffusers', 'embroideries', 'offenders', 'surpluses', 'championships', 'parolees', 'home-owners', 'tablecloths', 'figurines', 'lessons', 'glazes', 'thruways', 'pilgrims', 'potters', 'lights', 'codes', 'soirees', 'shapes', 'cylinders', 'recitals', 'turbinates', 'hamburgers', 'lovers', 'forests', 'droplets', 'owls', 'demagogues', 'loves', 'fervors', 'misses', 'lilies', 'quintets', 'projectiles', 'sentimentalists', 'marketings', 'predilections', 'robots', 'braids', 'aides', 'knobs', 'millidegrees', 'scenes', 'sensibilities', 'skeptics', 'canisters', 'fragments', 'ornaments', 'exploiters', 'conversions', 'scholarships', 'oilseeds', 'theologians', 'seismographs', 'mounts', 'peers', 'insecticides', 'towels', 'correlations', 'rains', 'pitchers', 'dislikes', 'blots', 'strains', 'pressures', 'jew-haters', 'sweaters', 'holdups', 'tires', 'treacheries', 'homesteaders', 'adjustments', 'nationalisms', 'vectors', 'revenues', 'charities', 'phosphors', 'chemists', 'staccatos', 'aids', 'climbs', 'yarns', 'pains', 'spandrels', 'doctrines', 'ministers', 'chorines', 'scouts', 'searches', 'orthodontists', 'runes', \"1890's\", 'exercises', 'manhours', 'menus', 'velocities', 'republics', 'cashews', 'teen-agers', 'radicals', 'appraisals', 'herbs', 'festivals', 'proposals', 'misdemeanants', 'routines', 'bundles', 'soils', 'reaches', 'holes', 'centers', 'powerplants', 'escapes', 'ovals', 'cocktails', 'pictures', 'redactions', 'forecasters', 'thicknesses', 'chronicles', 'remains', 'revellings', 'underachievers', 'burdens', 'counterparts', 'tarpaulins', 'workings', 'self-deceptions', 'oxygens', 'maladies', 'columnists', 'registers', 'biches', 'heads', 'scholastics', 'announcers', 'cannibals', 'mops', 'cartels', 'calibrations', 'announcements', 'alternatives', 'pesticides', 'outboards', 'margins', 'wolves', 'depositors', 'ores', 'stabs', 'brigades', 'searchings', 'airports', 'musings', 'options', 'taxpayers', 'outlaws', 'queries', 'schedules', 'libraries', 'bins', 'sisters', 'revivals', 'mobsters', 'campsites', 'friendships', 'stratagems', 'bidders', 'two-by-fours', 'synchronizers', 'depressors', 'landes', 'manors', 'props', 'vegetables', 'corkers', 'departments', 'marts', 'creeds', 'searchlights', 'captains', 'swells', 'genres', 'collars', 'do-gooders', 'discoveries', 'thousands', 'oracles', 'hurlers', 'stockynges', 'sponges', 'fishers', 'convictions', 'ambulances', 'halogens', 'selections', 'emeralds', 'lady-bugs', 'adapters', 'friezes', 'dialects', 'self-images', 'researchers', 'squalls', 'scoundrels', 'handstands', 'curves', 'corrugations', 'embodiments', 'afflictions', 'schoolboys', 'malignancies', \"1800's\", 'pastes', 'affidavits', 'anastomoses', 'contentions', 'marvels', 'decencies', 'traitors', 'remissions', 'interrelationships', 'outbreaks', 'doctors', 'ghettos', 'bulls', 'yaks', 'substitutes', 'beards', 'anti-semites', 'forebears', 'perceptions', 'operations', 'pimps', 'earth-weeks', 'boatyards', 'sideboards', 'aesthetes', 'trips', 'cockroaches', 'ditties', 'misdeeds', 'follies', 'cross-striations', 'holds', 'neighborhoods', 'gums', 'lethargies', 'crows', 'crests', 'houses', 'chansons', 'trances', 'signatures', 'stragglers', 'after-effects', 'hutments', 'cicadas', 'spikes', 'groves', 'drops', 'lulls', 'coeds', 'lifeguards', 'scallops', 'chops', 'bits', 'gussets', 'promptings', 'pickles', 'pleats', 'mobs', 'diagrams', 'goodies', 'eccentrics', 'charters', 'vessels', 'kissings', 'chanceries', 'rifles', 'theoriticians', 'pastures', 'tickets', 'urgings', 'monsters', 'week-ends', 'barriers', 'duds', 'conditions', 'indentations', 'tracks', 'peasants', 'cubes', 'lobules', 'libertarians', 'moods', 'wattles', 'origins', 'mercenaries', 'streets', 'tumors', 'tongues', 'locomotives', 'duffers', 'franchises', 'claps', 'stage-plays', 'delights', 'barbarians', 'incendiaries', 'labors', 'organisms', 'explorations', 'schoolgirls', 'lay-sisters', 'acrobats', 'bikinis', 'dispensers', 'flavors', 'abilities', 'calligraphers', 'hardwoods', 'steppes', 'marbles', 'kilts', 'bedsprings', 'intrigues', 'prizes', 'primates', 'by-products', 'bales', 'semi-abstractions', 'models', 'sea-horses', 'booklists', 'orchids', 'captions', 'romantics', 'dack-rihs', 'blisters', 'mailboxes', 'freaks', 'bumps', 'conductors', 'ripples', 'beatings', 'schemes', 'specimens', 'capes', 'pants', 'ruts', 'sackes', 'transports', 'geysers', 'leaps', 'deadlines', 'inadequacies', 'closets', 'calories', 'celebrities', 'necks', 'foreigners', 'falsehoods', 'crackers', 'cities', 'chandeliers', 'batwings', 'resistances', 'referrals', 'ups', 'tests', 'moors', 'carpenters', 'addressees', 'benchmarks', 'pinpoints', 'passages', 'fingers', 'kingdoms', 'spirituals', 'armies', 'churchgoers', 'clays', 'hoodlums', 'pianists', 'diluents', 'accelerations', 'rivals', 'clicks', 'startups', 'sentences', 'colonies', 'slugs', 'epidemics', 'representations', 'emphases', 'invaders', 'collections', 'descriptions', 'bellies', 'reporters', 'cures', 'fortunes', 'signposts', 'carriages', 'inns', 'scars', 'redheads', 'downs', 'lusts', 'shortcuts', 'blanks', 'evangelists', 'jabs', 'diagnosticians', 'missiles', 'philanthropies', 'badges', 'things', 'dances', 'interests', 'events', 'foxholes', 'grandparents', 'rents', 'cycles', 'sonnets', 'shirts', 'reckonings', 'antagonists', 'firecrackers', 'acts', 'globes', 'value-orientations', 'annals', 'galleries', 'tonics', 'thespians', 'credits', 'sables', 'forefathers', 'thugs', 'murderers', 'minds', 'undertakings', 'toddlers', 'orifices', 'poets', 'kids', 'outlines', 'persons', 'charlatans', 'platters', 'vehicles', 'subsystems', 'calls', 'terminals', 'wreaths', 'fists', 'dipoles', 'racketeers', 'smelts', 'chin-ups', 'lionesses', 'eclipses', 'strengths', 'innuendos', 'line-pairs', 'bookers', 'finger-tips', 'antecedents', 'loins', 'contraptions', 'mosaics', 'experiences', 'players', '1970s', 'cigarettes', 'glycosides', 'ministries', 'deficits', 'ailments', 'airlines', 'oxyhydroxides', 'confessions', 'monies', 'instructors', 'snails', '1920s', 'fines', 'indexes', 'performances', 'knick-knacks', 'spores', 'outputs', 'felons', 'amphetamines', 'buffets', 'bases', 'accessions', 'notes', \"1960's\", 'clinches', 'tournaments', 'microwaves', 'suitcases', 'in-laws', 'introductions', 'vouchers', 'splinters', 'users', 'extremities', 'grandsons', 'nips', 'songs', 'wholes', 'storylines', 'dishes', 'conceits', 'investors', 'couplers', 'first-families', 'contradictions', 'phrases', 'deductions', 'presentations', 'teammates', 'tempers', 'aprons', 'loyalties', 'misconstructions', 'cabanas', 'trims', 'conquests', 'assists', 'magnates', 'anarchist-adventurers', 'ballplayers', 'pickins', 'opiates', 'ticks', 'alter-parents', 'identifications', 'residues', 'ancients', 'mid-thirties', 'corollaries', 'maids', 'chemistries', 'homebuilders', 'entertainments', 'frescos', 'authorities', 'crates', 'exhortations', 'excursions', 'judges', 'forces', 'fables', 'comings', 'nerve-ends', 'drums', 'liars', 'winches', 'porches', 'conditioners', 'journals', 'mannerisms', 'exhumations', 'sailboats', 'marshes', 'relations', 'jackdaws', 'peaches', 'clumps', 'misunderstanders', 'scandals', 'slings', 'pigpens', 'cards', 'juleps', 'curbs', 'balances', 'moments', 'shucks', 'tissues', 'ships', 'expressionists', 'pegboards', 'needles', 'priorities', 'constellations', 'goings', 'fleets', 'questions', 'villains', 'skirmishes', 'nods', 'urinals', 'curds', 'nonreactors', 'easements', 'justices', 'buns', 'gradations', 'dolls', 'notices', 'braces', 'forages', 'disruptions', 'hulks', 'globulins', 'oddities', 'inholdings', 'sacraments', 'truckers', 'institutions', 'directors', 'stares', 'volts', 'temperatures', 'defeats', 'solvents', 'perturbations', 'bulbs', 'punches', 'capital-gains', 'trappings', 'vibes', 'arrangers', 'prayerbooks', 'magpies', 'mats', 'conceptions', 'vice-presidents', 'fastenings', 'divinities', 'polyelectrolytes', 'indicators', 'combatants', 'forts', 'yards', 'drunkards', 'kick-offs', 'bandits', 'dots', \"'40's\", 'by-laws', 'whisperings', 'sweepings', 'morticians', 'equations', 'elbows', 'illusions', 'plots', 'normals', 'gardeners', 'bergs', 'tablets', 'riders', 'communities', 'weaves', 'meteorites', 'monuments', 'travelogues', 'rhymes', 'kidneys', 'stamps', 'hangars', 'gratings', 'piazzas', 'prices', 'anachronisms', 'subversives', 'counters', 'eccentricities', 'interviewees', '180-degrees', 'confines', 'overcoats', 'hydrogens', 'items', 'crossings', 'stoves', 'sidelines', 'callers', 'stirups', 'coxcombs', 'backwoods', 'artisans', 'in-migrants', 'diplomats', 'notches', 'spherules', 'banks', 'premises', 'consultants', 'receivers', 'maximums', 'saddlebags', 'glands', 'folksongs', 'successors', 'cartridges', 'members', 'wiles', 'regards', 'memberships', 'gaps', 'tangents', 'directrices', 'bogies', 'encomiums', 'ties', 'adventurers', 'feuds', 'preliminaries', 'blue-eyes', 'sterns', 'outcrops', 'barbs', 'epigrams', 'cultures', 'junctures', 'diameters', 'tens', 'corns', 'liniments', 'impoundments', '600-degrees', 'tektites', 'arterioles', 'mussels', 'posters', 'computers', 'nobles', 'rounds', 'coatings', 'epics', 'sophisticates', 'freewheelers', 'launchings', 'degrees', 'pins', 'armpits', 'multitudes', 'oranges', 'legacies', 'aliens', 'credentials', 'headlines', 'citations', 'cruises', 'technicalities', 'nodes', 'skiis', 'currents', 'rumors', 'justifications', 'waters', 'germs', 'references', 'jonquils', 'mothers', 'suppers', 'peals', 'wisps', 'cans', 'tenths', 'nuances', 'schnooks', 'turrets', 'rings', 'pinnings', 'ulcerations', 'hips', 'respects', 'busses', 'readings', 'minstrels', 'facts', 'achievements', 'conclusions', 'linebackers', 'containers', 'lays', 'paratroopers', 'innovations', 'buffs', 'trousers-pockets', 'repercussions', 'estimates', 'toadies', 'sweat-suits', 'bonfires', 'apostates', 'symphonies', 'newlyweds', 'slats', 'overhangs', 'haberdasheries', 'eluates', 'excellences', 'sit-ins', 'tabloids', 'legends', 'airplanes', 'transoms', 'rockets', 'doves', 'cuirassiers', 'tripods', 'demonstrations', 'longings', 'reorganizations', 'pledges', 'mergers', 'cellars', 'slums', 'puppets', 'companions', 'absurdities', 'presses', 'homopolymers', 'verbs', 'goals', 'partners', 'cameras', 'mattresses', 'blinkers', 'paterollers', 'disasters', 'troops', 'rotogravures', 'colour-prints', 'waffles', 'compatriots', 'gutters', 'components', 'claws', 'linguists', 'sops', 'commentators', 'kills', 'preachers', 'stillbirths', 'sensations', 'prosodies', 'enthusiasts', 'ponds', 'sh-ts', \"mid-1950's\", 'trestles', 'hubs', 'roads', 'vertebrates', 'amulets', 'rosebuds', 'stripes', 'findings', 'liters', 'sulks', 'nuisances', 'rewards', 'piles', 'curls', 'barnyards', 'noisemakers', 'byproducts', 'spasms', 'beans', 'almonds', 'insurgents', 'two-seaters', '45-degrees', 'circuits', 'predecessors', 'turbines', 'tags', 'varieties', 'lamentations', 'victims', 'educations', 'reflections', 'autos', 'continuities', 'prisoners', 'troopers', 'porcupines', 'coves', 'interpretations', 'organizations', 'recriminations', 'balsams', 'processors', 'desperadoes', 'complexes', 'meetings', 'at-bats', 'consumers', 'xylophones', 'carrots', 'inquiries', 'freedoms', 'wherefores', 'tree-clumps', 'gavottes', 'interferometers', 'rasps', 'varnishes', 'cabinetmakers', 'loadings', 'clotheslines', 'specifics', 'grooves', 'lords', 'bites', 'subtleties', 'booklets', 'generalizations', 'antiquarians', 'hobbies', 'lobes', 'classes', 'cords', 'niggers', 'photographs', 'slights', 'curses', 'dials', 'fundamentals', 'townships', 'faces', 'panaceas', 'calamities', 'continents', 'dictionaries', 'critters', 'crabs', 'disorders', 'freighters', 'seeds', 'computations', 'bureaus', 'theatricals', 'manners', 'visitations', \"mid-1890's\", 'insulators', 'firearms', 'hotdogs', 'destinies', 'jurists', 'alcoholics', 'peaks', 'coffers', 'imperfections', 'fairies', 'reunions', 'slices', 'adherents', 'abuses', 'slurries', 'categories', 'gluttons', 'spigots', 'pimples', 'stinkpotters', 'forbears', 'brackets', 'widths', 'pads', 'flotillas', 'buffoons', 'imperialists', 'problems', 'workshops', 'territories', 'drovers', 'businesses', 'bobbins', 'dressings', 'airs', 'manuals', 'visits', 'staffs', 'opportunities', 'magnums', 'convulsions', 'boaters', 'subtypes', 'firms', 'micrometers', 'non-books', 'loopholes', 'by-roads', 'attempts', 'mooncursers', 'ages', 'translations', 'whites', 'abstractors', 'counties', 'kindnesses', 'tyrants', 'examples', 'statements', 'kegs', 'bruises', 'rivalries', 'grads', 'gagwriters', 'galleys', 'knightes', 'parameters', 'nurses', 'guises', 'shells', 'enzymes', 'luxuries', 'medals', 'sufferers', 'rat-holes', 'stockholders', 'warts', 'bellwethers', 'fellow-employees', 'platforms', 'cuffs', 'non-resistants', 'twister-coners', 'cross-purposes', 'sediments', 'orders', 'hearings', 'bids', 'buffetings', 'phagocytes', 'statisticians', 'charms', 'decrees', 'suds', 'starts', 'benefits', 'blasts', 'francs', 'yachtels', 'encumbrances', 'heavy-electrical-goods', 'decorators', 'tastes', 'wheezes', 'desires', 'fantods', 'reserves', 'innuendoes', 'philosophies', 'localities', 'free-holders', 'vaults', 'vacationers', 'splashes', 'wells', 'pretexts', 'lapses', 'clams', 'characters', 'colonials', '10-degrees', 'terriers', 'operands', 'economists', 'synthetics', 'petals', 'conformists', 'circles', 'esterases', 'speculators', 'works', 'detractors', 'endeavours', 'teats', 'needs', 'clods', 'glob-flakes', 'dens', 'planters', 'longitudes', 'grounds', 'ghouls', 'assailants', 'saucers', 'antibiotics', 'alibis', 'tempos', 'work-outs', 'prejudices', 'bursts', 'artists', 'laces', 'triplets', 'microphones', 'combustibles', 'montmorillonites', 'indulgences', 'hounds', 'resignations', 'advocates', 'aberrations', 'derivations', 'alliances', 'archives', 'corpses', 'pencils', 'cranberries', 'crises', 'accessories', 'audiences', 'slanders', 'drafts', 'polyethers', 'banners', 'particles', 'creations', 'cones', 'subgroups', 'pauses', 'legations', 'portraits', 'kennings', 'bombers', 'subpenas', 'bushels', 'sponsors', 'threads', 'clubrooms', 'galaxies', 'binders', 'forefingers', 'pockets', 'geniuses', 'grants', 'urges', 'two-inches', 'loyalists', 'rhetoricians', 'schools', 'initiates', 'closeups', 'slacks', 'peptidases', 'discs', 'patisseries', 'regrets', 'cobblestones', 'cogs', 'protests', 'realms', 'shots', 'regiments', 'freezers', 'camps', 'bedbugs', 'rugs', 'personages', 'steaks', 'borderlands', 'substances', 'antibodies', 'appointments', 'havens', 'inhumanities', 'flocks', 'boatels', 'bribes', 'chiefs', 'cons', 'brothels', 'propositions', 'shooters', 'hoots', 'interludes', 'troopships', 'conjectures', 'phosphates', 'massacres', 'associations', 'transactions', 'students', 'massifs', 'student-physicists', 'highlights', 'surrealists', 'dooms', 'theses', 'pessimists', 'reefs', 'coats', 'waterways', 'trades', 'microns', 'exports', 'bodybuilders', 'conspiracies', 'invitees', 'reforms', 'hairdos', 'voltages', 'chimes', 'noises', 'scoreboards', 'wonders', 'time-servers', 'similarities', 'homesteads', 'mentions', 'tablespoons', 'swatches', 'actresses', 'full-sisters', 'sides', 'skyscrapers', 'salads', 'nodules', 'golfers', 'premieres', 'ethicists', 'upholders', 'dozens', 'advances', 'vows', 'movers', 'islands', 'trustees', 'cages', 'plays', 'underclothes', 'lengths', 'barricades', 'chiggers', 'pavements', 'deferents', 'pixies', 'pillows', 'factories', 'stays', 'bristles', 'retainers', 'tries', 'handfuls', 'frequencies', 'professionals', 'grievances', 'envelopes', 'distributors', 'reagents', 'besiegers', 'historians', 'broadcasts', 'caves', 'tragedians', 'streaks', 'walks', 'madrigals', 'reviewers', 'sovereigns', 'follow-ups', 'handbooks', 'returns', 'navigators', 'hedges', 'teens', 'stairwells', 'lefthanders', 'inevitabilities', 'ceilings', 'clodhoppers', 'jowls', 'practitioners', 'concerts', 'earthquakes', 'snags', 'transients', 'monosyllables', 'projections', 'burgesses', 'promoters', 'fleas', 'symptoms', 'dips', 'zones', 'ratings', 'flash-bulbs', 'underwriters', 'sciences', 'pears', 'senators', 'enlargements', 'grownups', 'whoppers', 'half-moons', 'intransigents', 'shipments', 'offerings', 'retirements', 'tablespoonfuls', 'dancers', 'smells', 'orations', 'blueprints', 'photos', 'geldings', 'accomodations', 'imaginations', 'theoreticians', 'scholars', 'smugglers', 'bull-sessions', 'forearms', 'entertainers', 'cents', 'deltas', 'facet-planes', 'amusements', 'reactants', 'freights', 'dollars-and-cents', 'cleaners', 'employees', 'temptations', 'zeros', 'sundials', 'skulls', 'mistakes', 'spies', 'nigs', 'journeys', 'ramps', 'jellies', 'sights', 'animals', 'humorists', 'contacts', 'customs', 'devices', 'excerpts', 'effluents', 'colds', 'scriptures', 'builders', 'grins', 'squads', 'coasts', 'enthusiasms', 'musicologists', 'reservoirs', 'therefores', 'feats', 'cowrtiers', 'pillars', 'goggles', 'ciliates', 'comrades', 'pulpits', 'laurels', 'revellers', 'cakes', 'obsessions', 'pectorals', 'purists', 'iodothyronines', 'sofas', 'abortions', 'lushes', 'meanes', 'antipodes', 'organizers', 'subsedies', '220-degrees', 'reams', 'paeans', 'cudgels', 'eyeglasses', 'spots', 'lovelies', 'sedans', 'emergencies', 'implications', 'junkies', 'jetliners', 'caucuses', 'helps', 'vocals', 'instalments', 'anticipations', 'creators', 'commitments', 'rats', 'traditions', 'pinafores', 'fireplaces', 'gases', 'lesbians', 'onions', 'watercolorists', 'benches', 'hams', 'racks', 'rites', 'tubules', 'stereotypes', 'actors', 'polarities', 'ideas', 'inheritors', 'bodies', 'parts', 'allotments', 'memory-pictures', 'purses', 'catchwords', 'ounces', 'gags', 'raincoats', 'litigants', 'ropers', 'legs', 'diagonals', 'lilacs', 'reflexes', 'humanists', 'wardens', 'arcades', 'tadpoles', 'sightseers', 'holystones', 'companies', 'brakes', 'shavings', 'capsules', 'buddies', 'blunderings', 'lodgings', 'expenditures', 'warys', 'parables', 'messes', 'bureaucracies', 'hangouts', 'bathtubs', 'editorials', 'abstractions', 'speakers', 'rides', 'rivers', 'sexes', 'stores', 'repetitions', 'straws', 'sinners', 'bridges', 'hoofmarks', 'howls', 'rafters', 'plains', 'polymerizations', 'fuses', 'pans', 'ringers', 'brands', 'scops', 'tellers', 'capitals', 'pant-legs', 'near-misses', 'disciplines', 'prayer-requests', 'outfielders', 'instrumentals', 'beneficiaries', 'constructions', 'markings', 'telegrams', 'exigencies', 'incidents', 'spokes', 'peonies', 'shrubs', 'headlights', 'backyards', 'apostles', 'doorways', 'snakes', 'shouders', 'marquees', 'guardians', 'cartoonists', 'giveaways', 'accelerometers', 'fronts', 'receipts', 'camels', 'moderates', 'widows', 'fares', 'heights', 'worries', 'unions', 'breakables', 'anesthetics', 'declines', 'subparts', 'saws', 'taxi-ways', 'cops', 'neighbours', 'academies', 'outsiders', 'texts', 'teams', 'reproducibilities', 'chines', 'writings', 'sums', 'idols', 'unfortunates', 'addresses', 'sizes', 'commercials', 'ensembles', 'foodstuffs', 'pretensions', 'suppliers', 'supplies', 'hunters', 'mustaches', 'somersaults', 'ball-carriers', 'loaders', 'bankers', 'ballfields', 'filaments', 'princes', 'blinds', 'depths', 'figures', 'bluffs', 'campuses', 'rehearsals', 'jams', 'inks', 'expositions', 'isomers', 'lamps', 'surprises', 'smatterings', 'enemies', 'plants', 'plaques', 're-enactments', 'beers', 'copybooks', 'empires', 'beets', 'servitors', 'objects', 'documents', 'leads', 'upshots', 'aspirants', 'dates', 'elections', 'edges', 'wishes', 'tapestries', 'springs', 'celebrants', 'grass-roots', 'transistors', 'spectators', 'sonatas', 'maples', 'farmlands', 'elms', 'sycophants', 'spreads', 'proprietorships', 'merits', 'trespasses', 'registrants', 'assessments', 'floes', 'miracles', 'traps', 'penalties', 'ills', 'paces', 'captors', 'batters', 'forties', 'ledgers', 'makes', 'lobbies', 'customers', 'bastards', 'scenics', 'catalogs', 'crimes', 'nationals', 'signs', 'comas', 'sockets', 'symbols', 'rangers', 'fox-hounds', 'chains', 'seams', 'inhibitions', 'squadrons', 'keys', 'qualms', 'headings', 'pairs', 'difficulties', 'beggars', 'photographers', 'drunk-and-disorderlies', 'electroshocks', 'instrumentalities', 'kilowatt-hours', 'approximations', 'blankets', 'shoulders', 'hypocrites', 'extracts', 'quibs', 'bands', 'prefectures', 'lyricists', 'confabulations', 'immediacies', 'seaports', 'squabbles', 'explorers', 'outriggers', 'stretches', 'skull-bashings', 'affects', 'pocketbooks', 'corticosteroids', 'watchings', 'claims', 'laments', 'neighbors', 'celluloses', 'organs', 'coups', 'sex-manuals', 'iodotyrosines', 'trains', 'dwellers', 'facets', '85-degrees', 'rates', 'scenarios', 'flourishes', 'managers', 'concessions', 'grudges', 'grubs', 'knives', 'boosts', 'tetrahalides', 'epaulets', 'currencies', 'anions', 'appreciations', 'transducers', 'cheekbones', 'revenuers', 'stags', 'luminaries', 'eggs', 'respirators', 'escorts', 'balconies', 'covenants', 'whores', 'supports', 'magazines', 'stupidities', 'sirens', 'balloons', 'inspirations', 'mouthpieces', '65-degrees', 'axes', 'fritters', 'turns', 'requirements', 'value-problems', 'esters', 'grindings', 'wastes', 'relatives', 'doings', 'amazons', 'billets', 'flats', 'houseboats', 'bills', 'sayings', 'tethers', 'auspices', 'riggers', 'cabins', 'principles', 'pests', 'mirrors', 'fairs', 'violets', 'veterinarians', 'incomes', 'illustrations', 'purchasers', 'butts', 'palaces', 'descendants', 'uplands', 'orgies', 'peoples', 'rackets', 'limousines', 'extrapolations', 'aptitudes', 'loners', 'fireworks', 'monasteries', 'uprisings', 'cupboards', 'objectors', 'polyphosphates', '59-cents', 'ferns', 'imitations', 'snacks', 'repulsions', 'certitudes', 'arylesterases', 'losses', 'plans', 'maps', 'chests', 'headstones', 'effects', 'prefixes', 'fluxes', 'sprains', 'compulsions', 'brambles', 'rutabagas', 'buckles', 'anatomicals', 'monks', 'refreshments', 'temples', 'cantles', 'grams', 'sacks', 'bottles', 'rays', 'reimbursements', 'embassies', 'dangers', 'mediums', 'breastworks', 'nuns', 'concentrates', 'defenses', 'onlookers', 'radiators', 'tents', 'dispositions', 'compacts', 'asters', 'majors', 'appearances', 'earnings', 'compilations', 'targets', 'intercepts', 'beams', 'headwaters', 'networks', 'quotations', 'inmates', 'entities', 'torpedoes', 'ledges', 'rhinestones', 'sophomores', 'topics', 'imaginings', 'irregularities', 'dams', 'rivulets', 'cats', 'streams', 'cutters', 'psychologists', 'dumps', 'orthophosphates', 'remedies', 'digressions', 'drawings', 'inter-relationships', 'smithereens', 'paratroops', 'dwellings', 'missions', 'trays', 'adhesives', 'biopsies', 'great-nieces', 'pamphlets', 'nighters', 'encyclopedias', 'ailerons', 'causes', 'unoriginals', 'picture-images', 'bookshelves', 'triangles', 'letters', 'scimitars', 'droughts', 'plunkers', 'expressions', 'differences', 'taxis', 'tourists', 'niceties', 'commonplaces', 'blends', 'biscuits', 'cries', 'subsidies', 'packs', 'fertilizers', 'stages', 'images', 'pipers', 'allies', '37-degrees', 'revetments', 'resorts', 'buoys', 'assemblies', 'liberties', 'means', 'onslaughts', 'habitants', 'blocks', 'voters', 'clerks', 'bandages', 'compositions', 'gorges', 'adventures', 'southernisms', 'exporters', 'censors', 'railbirds', 'alcoves', 'corner-posts', 'boots', 'bounds', 'communicators', 'maggots', 'valuations', 'picnickers', 'incongruities', 'flame-throwers', 'rioters', 'raiders', 'lows', 'stars', 'truths', 'confederates', 'accomplishments', 'leaders', 'strands', 'reproductions', 'fractures', 'paints', 'notables', 'caseworkers', 'atoms', 'trusses', 'seniors', 'stones', 'contexts', 'girders', 'herpetologists', 'dewdrops', 'ketches', 'jealousies', 'perfectionists', 'provisions', 'charges', 'mains', 'rights', 'surfactants', 'worms', 'shutdowns', 'handcuffs', 'patriots', 'jackboots', 'titters', 'physicians', 'boardinghouses', 'attractions', 'analogies', 'equivalents', 'torches', 'trobles', 'homemakers', 'medicines', 'accouterments', 'canvases', 'worshippers', 'morals', 'ringsiders', 'meats', 'directions', 'advancements', 'comparisons', 'routings', 'educators', 'sores', 'apses', 'redevelopers', 'shootings', 'strictures', 'croaks', 'drugs', 'emanations', 'ambitions', 'implements', 'incentives', 'dropouts', 'well-springs', 'depravities', 'drummers', 'carriers', 'signers', 'storehouses', 'clarets', 'steeples', 'breezes', 'resonances', 'assumptions', 'magnetisms', 'obsequies', 'tornadoes', 'doses', 'broods', 'heavers', 'funeral-accessories', 'lowlands', 'nineties', 'retreats', 'under-achievers', 'determinations', 'months', 'megalopolises', 'wrinkles', 'idlers', 'logs', 'hi-graders', 'sidearms', 'fjords', 'battens', 'spacings', 'uncles', 'abbreviations', 'pompons', 'flimsies', 'stocks', 'breeds', 'gymnasts', 'emotions', 'freckles', 'shoes', 'biologists', 'sixties', 'administrators', 'weddings', 'sports', 'stalls', 'communiques', 'hits', 'accomplices', 'orientations', 'homosexuals', 'alkalis', 'suffixes', 'operagoers', 'clamps', 'folds', 'sacrifices', 'discharges', 'holders', 'musicians', 'rattlesnakes', 'kings', 'essays', 'blebs', 'ministrations', 'persuasions', 'shifts', 'quarterbacks', 'totals', 'fledglings', 'brows', 'squires', 'ankles', 'strings', 'parades', 'illnesses', 'wages', 'intonations', 'bananas', 'winnings', 'intuitions', 'boors', 'statistics', 'andrenas', 'editions', 'panthers', 'halts', 'happenings', 'woods', 'toes', 'possibilities', 'caresses', 'utopias', 'partings', 'literatures', 'earrings', 'seekers', 'green-bugs', 'counter-efforts', 'carbines', 'ranches', 'pegs', 'candles', 'appendages', 'dignitaries', 'disbursements', 'subscripts', 'mixers', 'fishmongers', 'munitions', 'autocrats', 'joys', 'parasites', 'suns', 'whipping-boys', 'sentinels', 'arsines', 'dies', 'promulgators', 'daisies', 'hallucinations', 'terraces', 'landowners', 'tidelands', 'freebooters', 'tragedies', 'stabilities', 'columns', 'accompanists', 'torrents', 'soapsuds', 'stances', 'battlements', 'beings', 'sinuses', 'architects', 'hummocks', 'subordinates', 'castorbeans', 'types', 'doldrums', 'traits', 'eyelids', 'storekeepers', 'mountains', 'approaches', 'ions', 'touches', 'palms', 'sanctions', 'crushers', 'hunches', 'civilians', 'repairs', 'polities', 'partisans', 'dicks', 'studs', 'bucks', 'hopefuls', 'giggles', 'attorneys', 'furlongs', 'violinists', 'analogues', 'candies', 'compresses', 'impurities', 'systems', 'rockers', 'civilizations', 'ambiguities', 'revelations', 'tidbits', 'gals', 'manifestations', 'sources', 'pliers', 'touchstones', 'skids', 'speckles', 'beverages', 'endearments', 'cousins', 'holidays', 'insults', 'utopians', 'humans', 'allocations', 'parlors', 'creases', 'appetites', 'metabolites', 'polemics', 'macrophages', 'winos', 'primers', 'masses', 'areaways', 'tenants', 'lemmas', 'politicians', 'tumbles', 'northers', 'porpoises', 'momentoes', 'cottages', 'suburbanites', 'stills', 'securities', 'oleanders', 'hymens', 'reactionaries', 'splits', 'sewers', 'platoons', 'subjectivists', 'rejections', 'kidnappers', 'authentications', 'purposes', 'motions', 'bluebonnets', 'coolnesses', 'illustrators', 'bees', 'whims', 'suicides', 'fives', 'bargains', 'coattails', 'lemons', 'manikins', 'fall-outs', 'integers', 'ideologies', 'guys', 'urns', 'fens', 'comforts', 'coils', 'anacondas', 'controversialists', 'glees', 'storms', 'buffaloes', 'basics', 'employes', 'corduroys', 'shareholders', 'colors', 'pews', 'eliminations', 'grapevines', 'ads', 'installments', 'eye-beamings', 'plunges', '1930s', 'evocations', 'constrictions', 'stockings', 'preconditions', 'fingernails', 'vestments', 'censuses', 'frauds', 'insignificances', 'deserts', 'fugitives', 'criminals', 'admirals', 'spacers', 'copings', 'tribes', 'warehouses', 'slitters', 'puzzles', 'invoices', '120-degrees', 'gyros', 'touchdowns', 'enforcers', 'accounts', 'costumes', 'photoelectrons', 'therapists', 'calves', 'gatherings', 'discounts', 'outlanders', \"'80's\", 'winds', 'actions', 'peculiarities', 'occupations', 'calipers', 'hazelnuts', 'wants', 'titers', 'equines', 'necklaces', 'polyisocyanates', 'tapes', 'policy-makers', 'synapses', 'strikes', 'moths', 'bootleggers', 'listeners', 'examinations', '25-cents', 'improvements', 'exaltations', 'sidechairs', 'terrains', 'acres', 'centuries', 'hangovers', 'zombies', \"rbi's\", 'nothings', 'requesters', 'warriors', 'mutants', 'extendibles', '50-degrees', 'stains', 'plaids', 'boroughs', 'heavens', 'philantropists', 'depressants', 'caryatides', 'boies', 'twins', 'paws', 'bachelors', 'films', '105-degrees', 'persuaders', 'disclosures', 'shows', 'attacks', 'chickens', 'fusillades', 'secants', 'slippers', 'snobs', 'disappointments', 'scapulars', 'ideals', 'distortions', 'intimations', 'analysts', 'soloists', 'hijackers', 'inundations', 'powers', 'tongs', 'envoys', 'shipyards', 'representatives', 'sales', 'pars', 'rags', 'predictions', 'releases', 'entries', 'side-effects', 'atheists', 'sachems', 'weaknesses', 'leashes', 'swimmers', 'improvisations', 'lightyears', 'migrants', 'polls', 'successes', 'ballots', 'coaches', 'roadways', 'skits', 'burnings', 'sultans', 'inroads', 'headaches', 'frames', 'carryovers', 'beasts', 'yeasts', 'ditches', 'traineeships', 'apprehensions', 'beliefs', 'genders', 'departures', 'classmates', 'belts', 'superintendents', 'mammas', 'blondes', 'messages', 'swords', 'stewards', 'myths', 'domains', 'typewriters', 'cowboys', 'misunderstandings', 'quirks', 'dolphins', 'virtues', 'farms', 'duties', 'resolutions', 'deviations', 'sequins', 'regimes', 'fracases', 'anthems', 'guards', 'ownerships', 'aviators', 'configurations', 'reading-rooms', 'experts', 'conflicts', 'bouts', 'baskets', 'pensions', 'commonwealths', 'situations', 'antiques', 'remnants', 'universities', 'wrenches', 'bellows', 'curtains', 'grassers', 'ears', 'winding-clothes', 'cronies', 'axioms', 'tunnels', 'whorls', 'fielders', 'imprecations', 'boils', 'plowshares', 'libertines', 'thickeners', 'skiffs', 'fountain-falls', 'carvings', 'riflemen-rangers', 'regions', 'outskirts', 'discrepancies', 'barges', 'absolutes', 'countries', \"'60s\", 'pronouns', 'accidents', 'brides', 'abstractionists', 'clues', 'alarms', 'highs', 'wrestlings', 'diatoms', 'overnighters', 'tiles', 'pedals', 'efforts', 'surroundings', 'readers', 'ranchers', 'librarians', 'respondents', 'miscreants', 'woodcutters', 'banisters', 'patterns', 'tormenters', '1960s', 'wanderers', 'workers', 'theorists', 'superstitions', 'affinities', 'rituals', 'fibers', 'voices', 'channels', 'phonemes', 'slides', 'secessionists', 'peacocks', 'hollyhocks', 'stitches', 'mechanisms', 'goitrogens', 'rubies', 'sods', 'exiles', 'fixations', 'insects', 'champs', 'destroyers', 'pleas', 'piers', 'furs', 'foibles', 'endings', 'ecumenicists', 'couples', 'anionics', 'experiments', 'recipients', 'bunters', 'shores', 'analyses', 'leadings', 'grooms', 'marrowbones', 'idioms', 'dinosaurs', 'inhabitants', 'sitters', 'supporters', 'interns', 'foes', 'sneers', 'walnuts', 'burrows', 'undergraduates', 'heroes', 'portents', 'delays', 'pretenses', 'metaphors', 'affiliations', 'betties', 'domes', 'marriages', 'gateways', 'specters', 'amateurs', 'flowers', 'eyelets', 'methods', 'canyons', 'rushes', 'purges', 'shoals', 'societies', 'increases', 'affirmations', 'contracts', 'horses', 'roots', 'injustices', 'krautheads', 'crayons', 'leathers', 'chants', 'initials', 'bitters', 'tops', 'glances', 'shields', 'interfaces', 'tours', 'filmstrips', 'generalities', 'themes', 'livres', 'aqueducts', 'oppressors', 'conveniences', 'abnormalities', 'frankfurters', 'shills', 'dynasties', 'delegates', 'dispatches', 'correspondents', 'primes', 'hasps', 'ambassadors', 'looks', 'projects', 'decisions', 'davits', 'three-fifths', 'wrappers', 'homes', 'juries', 'folks', 'lines', 'leopards', 'timbers', 'adaptations', 'salons', 'investments', 'floors', 'planners', 'protons', 'seedcoats', 'riddles', 'pinch-hitters', 'panes', 'muzzles', 'assemblages', 'cartons', 'freethinkers', 'infidels', 'tasks', \"mid-1960's\", 're-runs', 'tenors', 'campaigners', 'vagaries', 'granules', 'odds', 'majorities', \"60's\", 'frescoes', 'murders', 'riverbanks', 'boatloads', 'rises', 'yields', 'depositions', 'victuals', 'instructions', 'enrollees', 'peptides', 'fees', 'fellows', 'schoolbooks', 'tumbrels', 'bats', 'tints', 'architectures', 'welts', 'ranges', 'tines', 'capacitors', 'mysteries', 'supervisors', 'stubs', 'depots', 'tombstones', 'fluctuations', 'traces', 'extras', 'halls', 'scales', 'crutches', 'collages', 'diseases', 'utilities', 'pouches', 'looms', 'takings', 'connoisseurs', 'malformations', 'finishes', 'captives', 'modifications', 'questioners', 'funds', 'potentialities', 'tiers', 'watches', 'subfigures', 'disadvantages', 'tools', 'subways', 'beeps', 'meets', 'molecules', 'applicants', 'patches', 'ciphers', 'inflections', 'skies', 'bottoms', 'keynotes', 'reminders', 'pumps', 'regattas', 'devotions', 'syllables', 'evasions', 'knuckles', 'out-migrants', 'liberals', 'aliquots', 'bricks', 'crudities', 'graves', 'deities', 'steam-baths', 'limits', 'modifiers', 'hero-worshippers', 'hooves', 'eagles', 'coops', 'precepts', 'essences', 'revolutionists', 'incitements', 'climaxes', 'wines', 'weights', 'sounds', 'manipulations', 'stop-overs', 'cooks', 'absences', 'skates', 'dales', 'counts', 'lifters', 'pits', 'furnaces', 'roundups', 'verbenas', \"1770's\", 'tappets', 'sharers', 'dilemmas', 'carpets', 'equalizers', 'patties', 'ellipses', 'comedies', 'nerves', 'lashes', 'sandwiches', 'procedures', 'proponents', 'belongings', 'skyjackers', 'shacks', 'choruses', 'swathings', 'allergies', 'safeties', 'pleasures', 'nation-states', 'liners', 'considerations', 'secretions', 'crannies', 'specifications', 'tears', 'confreres', 'thunderclaps', 'puddles', 'hydrides', 'twos', 'pants-legs', 'chuckles', 'compartments', 'plazas', 'eighties', 'transfers', 'hairs', 'assignments', 'centimeters', 'markets', 'seasons', 'melodies', 'propulsions', 'gowns', 'overalls', 'tales', 'sensors', 'blitzes', 'gangs', 'transferors', 'filibusters', 'routes', 'call-backs', 'proctors', 'micrometeorites', 'draftees', 'thoughts', 'ice-cubes', 'parties', 'fours', 'warrants', 'evenings', 'nests', 'carbonates', 'concepts', 'engines', 'mills', 'gifts', 'sets', 'mortals', 'criticisms', 'inductions', 'reactors', 'asterisks', 'sufferings', 'twigs', 'hypotheses', 'attentions', 'pigeons', 'limitations', 'impacts', 'nationalists', 'insertions', 'swings', 'draughts', 'householders', 'macro-instructions', 'bolts', 'madstones', 'violins', 'alignments', 'trails', 'fools', 'combinations', 'torquers', 'footnotes', 'scions', 'fighters', 'intendants', 'commissions', 'wavers', 'ranks', 'lips', 'corks', 'subdivisions', 'yelps', 'denials', 'positions', 'tolls', 'self-plagiarisms', 'castles', 'denominators', 'cows', 'seventies', 'mines', 'liaisons', 'classifications', 'records', 'minarets', 'ports', 'goal-values', 'crags', 'paperwads', 'delineaments', 'contestants', 'alterations', 'swellings', 'racers', 'raids', 'vitals', 'hopples', 'parentheses', 'coefficients', 'availabilities', 'boastings', 'anteriors', 'powders', 'agencies', 'jails', 'menarches', 'fire-crackers', 'shopkeepers', 'laps', 'huzzahs', 'cells', 'bridesmaids', 'makings', 'musts', 'rogues', 'urethanes', 'divans', 'campgrounds', 'newcomers', 'attributes', 'blossoms', 'arms', 'pinholes', 'possiblities', 'inoculations', 'attendants', 'committees', 'colonists', 'witnesses', 'nuts', 'faculties', 'dollies', 'tons', 'retrogradations', 'windbreaks', 'alcohols', 'catecholamines', 'stimulants', 'polybutenes', 'results', 'parasols', 'fears', 'casualties', 'blemishes', 'confederations', 'grassroots', 'pardons', 'diamonds', 'lava-rocks', 'treatments', 'rows', 'resistors', 'phrasings', 'insides', 'samples', 'barns', 'individuals', 'agglutinins', 'runways', 'gaskets', 'forks', 'jibes', 'persimmons', 'skills', 'controllers', 'prosceniums', 'sects', 'blows', \"1940's\", 'subroutines', 'brunches', 'teachings', 'shutters', 'courses', 'prunes', 'creepers', 'crevices', 'cinches', 'sharks', 'commodities', 'dresses', 'quarts', 'skins', 'mornings', 'maladjustments', 'hyacinths', 'aristocrats', 'butterflies', 'tides', 'offices', 'plunderers', 'waterfalls', 'abberations', 'obituaries', 'gainers', 'cantilevers', 'lieutenants', 'sinusoids', 'buzzes', 'jets', 'seas', 'courts', 'artifacts', 'farmhouses', 'critics', 'crystallites', 'experimentations', 'milestones', 'louvers', 'intangibles', 'measurements', 'graveyards', 'trapdoors', 'clutches', 'profits', 'papers', '1890s', 'involvements', 'postulates', 'side-conclusions', 'minaces', 'lighters', 'tomes', 'abolitionists', 'phosphines', 'hattes', 'bullwhackers', 'moves', 'strangers', 'planks', 'haunches', 'carbons', 'line-fragments', 'operators', 'disturbances', 'abstrusenesses', 'admissions', 'two-weeks', 'regents', 'handguns', 'bromides', 'distances', 'patients', 'wharves', 'evidences', 'proceeds', 'toughs', 'insurrections', 'plates', 'ologies', 'disciples', 'fences', 'capers', 'instincts', 'spats', 'specialists', 'painters', 'grottoes', 'mastodons', 'tombs', 'officers', 'avenues', 'man-hours', 'religionists', 'intermissions', 'parks', 'rallies', 'pavilions', 'canons', 'counter-successes', 'sandbars', 'riches', 'thoroughfares', 'talks', 'publishers', 'declinations', 'lifeboats', 'wanderings', 'pronouncements', 'worlds', 'amendments', 'shepherds', 'rangelands', 'flatnesses', 'gaiters', 'lawmakers', 'ventures', 'airfields', 'chambers', 'faults', 'exploits', 'liquidations', 'tracers', 'books', 'rim-fires', 'snatches', 'tubes', 'postmasters', 'gynecologists', 'rocks', 'bloodhounds', 'metals', 'gasps', 'hallways', 'shops', 'times', 'late-comers', 'australites', 'lions', 'lymphocytes', 'enrollments', 'choices', 'frictions', 'burns', 'barbecues', 'knots', 'textbooks', 'halfbacks', 'raises', 'plows', 'contributions', 'arrears', 'troupes', 'portwatchers', 'dissonances', 'errors', 'shenanigans', 'dosages', 'guesses', 'municipalities', 'employments', 'thuds', 'anchors', 'tracings', 'passengers', 'brains', 'observances', 'halves', 'threes', 'microorganisms', 'poles', 'challenges', 'guests', 'souls', 'strawberries', 'energies', 'executors', 'nightmares', 'buckskins', 'demands', 'residences', 'misfortunes', 'composites', 'formulas', 'waiters', 'berries', 'eatables', 'blowers', 'bars', 'ballistics', 'tankers', 'necessaries', 'boxes', 'inventions', 'sketches', 'skirmishers', 'orthographies', 'paintings', 'nutrients', 'beatniks', 'accommodations', 'polynomials', 'leaks', 'athletes', 'sidewalks', 'guides', 'sectors', 'abstracts', 'displays', 'bullyboys', 'descendents', 'pursuits', 'chairmanships', 'resources', 'pilgrimages', 'vistas', 'diaphragms', 'settings', 'shrines', 'snows', 'bowels', 'gullies', 'governors', 'killers', 'motivations', 'antennas', 'bifocals', 'moderns', 'traders', 'innocents', 'droves', 'dishwashers', 'butlers', 'philosophers', 'parents', 'indignities', 'spacesuits', 'foods', 'consciences', 'originals', 'immoralities', 'cityscapes', 'sticks', 'meals', 'caterpillars', \"'90s\", 'apartments', 'shelves', 'diaries', 'non-publishers', 'previsions', 'trees', 'uncertainties', 'advisers', 'race-drivers', 'co-ops', 'northerners', 'executives', 'biases', 'hitters', 'airdrops', 'filters', 'librettists', 'misinterpreters', 'conjunctions', 'spewings', 'pinnacles', 'collisions', 'assassins', 'functions', 'bangs', 'psychotherapists', 'scapegoats', 'lathes', 'coeditors', 'scanners', 'mules', 'waves', 'motets', 'dissents', 'substitutions', 'slogans', 'whiplashes', 'mummies', 'hills', 'concertos', 'hospitals', 'daylights', 'loads', 'romancers', 'poisons', 'pursuers', 'disparities', 'eies', 'durations', 'cribs', 'photocathodes', 'scores', 'parings', 'usages', 'lives', 'detergents', 'taxes', 'complexities', 'oxides', 'funnels', 'lucks', 'half-bottles', 'bays', 'proprietors', 'leaflets', 'bosoms', 'triumphs', 'pals', 'debts', 'sharpshooters', 'deaths', 'thatches', 'acquisitions', 'breakthroughs', 'bunks', 'turkeys', 'pools', 'shovels', 'atmospheres', 'helpers', 'clucks', 'mechanics', 'confessionals', 'narratives', 'dusts', 'hypocrisies', 'groceries', 'cliches', 'intrusions', 'locales', 'seers', 'what-nots', 'fifteen-sixteenths', 'skippers', 'x-rays', 'tones', 'tulips', 'travelers', 'molds', 'factions', 'crickets', 'conservatives', 'condicions', 'heretics', 'duets', 'limbs', 'divisions', 'grasshoppers', 'repressions', 'demonstrators', 'preserves', 'chambermaids', 'ethers', 'vandals', 'distresses', 'confusions', 'slips', 'cancers', 'gripes', 'renunciations', 'versions', 'disabilities', 'shipmates', 'discourses', 'serpents', 'oaks', 'felicities', 'strikebreakers', 'macromolecules', 'clocks', 'suckers', 'romances', 'shibboleths', 'arrivals', 'hotels', 'novelists', 'echelons', 'pirates', 'fishes', 'chimneys', 'battalions', 'parakeets', 'microseconds', 'canvassers', 'copies', 'furnishings', 'tensions', 'cabs', 'condiments', 'patinas', 'basses', 'tepees', 'kittens', 'strides', 'footsteps', 'clauses', 'villagers', 'burners', 'intensifiers', 'stilts', 'saints', 'spring-joints', 'satisfactions', 'oaths', 'barons', 'sags', 'alginates', 'slits', 'jerks', 'caravans', 'chisels', 'roommates', 'chestnuts', 'magistrates', 'formalities', 'gnomes', 'ribbons', 'grinders', 'mosquitoes', 'ambushes', 'blessings', 'votes', 'millions', 'subsidiaries', 'drawers', 'eulogizers', 'sheets', 'sweepstakes', 'pales', 'bullies', 'sculptors', 'sessions', 'beds', 'captures', 'wales', 'shippers', 'presents', 'converts', 'lagoons', 'sociologists', 'diversities', 'rosaries', 'mittens', 'makers', 'textiles', 'veins', 'paddies', 'finalists', 'two-thirds', 'urgencies', 'isopleths', 'oases', 'testaments', 'misdirectors', 'crawls', 'mementoes', 'requisites', 'privations', 'whips', 'telephones', 'interviews', 'medics', 'grades', 'cliffs', 'currants', 'grasses', 'knocks', 'minerals', 'politicos', 'pilots', 'parishioners', 'gamblers', 'fairways', 'lawsuits', 'sails', 'bleachers', 'commencements', 'wetlands', 'sausages', 'spurs', 'marauders', 'pennies', 'noes', 'antics', 'recollections', 'trophies', 'cheers', 'quivers', 'barrels', 'bedrooms', 'playwrights', 'funerals', 'crossbars', 'irritations', 'graphs', 'constants', 'identities', 'samplers', 'snivelings', 'philologists', 'brochures', 'bellboys', 'gins', 'foams', 'honkytonks', 'fellow-creatures', 'rehabilitations', 'status-roles', 'fillings', 'inferences', 'muskets', 'jeans', 'misplacements', 'contingents', 'tantrums', 'campers', 'pundits', 'contrarieties', 'commentaries', 'monitors', 'households', 'forty-niners', 'lotions', 'elements', 'geologists', 'dagers', 'well-wishers', 'moralities', 'attitudes', 'renderings', 'gloves', 'individualists', 'billions', 'mythologies', 'tonalities', 'seminarians', 'peddlers', 'corporations', 'memos', 'poppies', 'services', 'premiums', 'careers', 'docters', 'ellipsoids', 'managements', 'bang-sashes', 'landmarks', 'hordes', 'females', 'hurdles', 'cutlets', 'humanities', 'clefts', 'desks', 'slants', 'blushes', 'stumps', 'boathouses', 'rooftops', 'lock-outs', 'stopovers', 'napkins', 'stand-ins', 'teenagers', \"1870's\", 'invasions', 'swamps', 'ratios', 'docks', 'waterflows', 'spouses', 'names', 'choreographers', 'slots', 'blokes', 'leases', 'forums', 'breakwaters', 'mammals', 'egrets', 'bosses', 'leaves', 'tinkers', 'holdovers', 'coyotes', 'vacancies', 'sparks', 'fortifications', 'giants', 'highways', 'fellas', 'coals', 'railways', 'beats', 'permits', 'ligands', 'delicacies', 'agates', 'thirties', 'segments', 'predispositions', 'prosecutors', 'shouts', 'despoilers', 'heroics', 'candidates', 'arenas', 'budgets', 'mosques', 'kernels', 'doers', 'plantings', 'aspects', 'theatergoers', 'lies', 'savings', 'internationalists', 'carts', 'parachutes', 'applications', 'cartwheels', 'saponins', 'wills', 'snuffboxes', 'locks', 'eyes', 'characterizations', 'senses', 'wavelengths', 'lodges', 'definitions', 'winders', 'radios', 'lappets', 'oils', 'sputniks', 'delegations', 'pets', 'ovens', 'trinkets', 'constituencies', 'surfaces', 'scaffoldings', 'rotations', 'motels', 'vines', 'galls', 'deviants', 'mailings', 'straps', 'pastors', 'sub-tests', 'cobwebs', 'wrongs', 'transformers', 'near-communists', 'savages', 'fill-ins', 'throes', 'anxieties', 'sculptures', 'twists', 'completions', 'plasters', 'fanatics', 'cha-chas', 'steels', 'thighs', 'nostrils', 'remarks', 'retailers', 'pirogues', 'crystallographers', 'washings', 'lashings', 'grapes', 'pettinesses', 'vocalists', 'tenements', 'advantages', 'malevolencies', \"1850's\", 'fetes', 'ironies', 'beer-runners', 'jabberings', 'litters', 'bowls', 'prescriptions', 'therapies', 'bookies', 'misgivings', 'buttocks', 'hallmarks', 'responses', 'parapets', 'superiors', '-16-degrees', 'flies', 'restraints', 'picnics', 'synagogues', 'thirds', 'autocracies', 'bibliographies', 'nullifiers', 'tithes', 'shadows', 'uses', 'tokens', 'excesses', 'ex-presidents', 'kinds', 'toys', 'threats', 'tactics', 'jitters', 'founders', 'dentists', 'profiles', 'togs', 'reps', 'enterprises', 'stomachs', 'grabs', 'driers', 'bas-reliefs', 'inducements', 'prostitutes', 'terms', 'scratches', 'gyms', 'hackles', 'synonyms', 'passions', '110-degrees', 'royalties', 'judgments', 'swallows', 'rodeos', 'columbines', 'plastisols', 'activities', 'catalysts', 'auditors', 'additives', 'rebellions', 'symbolists', 'bellhops', 'cars', 'stirrings', 'silos', 'afternoons', 'fatigues', 'shingles', 'climates', 'testimonials', 'strippers', 'airways', 'vendors', 'trials', '-78-degrees', 'intensities', 'ventricles', 'headlands', 'adjuncts', 'possessions', 'deliberations', 'blasphemies', 'boxcars', 'inclusions', 'gambles', 'bends', 'interrogatives', 'burlesques', 'ginghams', 'climes', 'creditors', 'calculators', 'clients', '2-year-olds', \"'thirties\", 'minorities', 'outcasts', 'sphynxes', 'mountainsides', 'cheeks', 'congregations', 'firehouses', 'sonorities', 'authorizations', 'freight-bums', 'stews', 'roles', 'articles', 'cockpits', 'bawhs', 'progressions', 'sweets', 'tufts', 'lungs', 'defendants', 'gates', 'chores', 'semi-heights', 'independents', 'lawns', 'yearnings', 'soldiers', 'calisthenics', 'pelts', 'probabilities', 'swarms', 'nations', 'down-and-outers', 'infants', 'flows', 'trucks', 'breakers', 'proclamations', 'garments', 'liquids', 'eras', 'servants', 'blunders', 'theories', 'marshmallows', 'dimers', 'knights', 'dioramas', 'heaters', 'fasciculations', 'matters', 'nicknames', 'rosettes', 'dissensions', 'races', 'strips', 'demonstratives', 'gherkins', 'electives', 'turnpikes', 'memorials', 'victories', 'periscopes', 'propagandists', 'non-writers', 'payments', 'parallels', 'buggies', 'jackets', 'fruits', 'solutions', 'intentions', 'factors', 'outposts', 'policies', 'flippers', 'nickels', 'workouts', 'flips', 'aims', 'dentures', 'paradigms', 'wards', 'arrangements', 'soybeans', 'damages', 'vocabularies', 'inches', 'newly-weds', 'roofs', 'publicists', \"70's\", 'punks', 'cores', 'secretaries', 'eyebrows', 'carloads', 'headwalls', 'glories', 'mortars', 'ends', 'lairs', 'scopes', 'wickets', 'residents', 'guerrillas', 'dealings', 'packages', 'cosmetics', 'councils', 'levers', 'verses', 'vowels', 'settlements', 'windowpanes', 'jewels', 'suffragettes', 'casters', 'selectors', 'masterpieces', 'footfalls', 'dreams', 'job-seekers', 'designers', 'caps', 'sweethearts', 'breakfasts', 'detours', 'apprentices', 'spices', 'lambs', 'queens', 'pre-conditions', 'dashes', 'flag-wavers', 'floorboards', 'kilometers', 'freeways', 'fords', 'substrates', 'dormitories', 'hierarchies', 'ravines', 'sojourners', 'ribs', 'starlings', 'finals', 'lowers', 'leaches', 'subsections', 'labels', 'shawls', 'proteins', 'trousers', 'flyways', 'acids', 'cliques', 'miscellanies', 'pushers', 'subscribers', 'steroids', 'classics', 'handkerchiefs', 'apples', 'conspirators', 'lounges', 'teletypes', 'buyers', 'aunts', 'dressers', 'dialectics', 'oystchers', \"1700's\", 'appeals', 'minors', 'introjects', 'survivalists', 'seagulls', 'narcotics', 'tassels', 'mementos', 'rafts', 'circumscriptions', 'youths', 'pages', 'toppings', 'citizens', 'busts', 'stepmothers', 'intellectuals', 'panoramas', 'detectors', 'cults', 'horizons', 'riots', 'boulders', 'parishes', 'checks', 'screeches', 'vents', 'bottlenecks', 'jokes', 'assaults', 'trolls', 'fingerprints', 'eyelashes', 'vantage-points', \"'20's\", 'hats', 'additions', 'forgeries', 'angles', 'air-drifts', 'numerals', 'conferees', 'qualities', 'warships', 'stimulations', 'enmities', 'expansions', 'reactions', 'periwinkles', 'guitars', 'orbits', 'inventors', 'cutouts', 'prosecutions', 'dregs', 'composers', 'chicks', 'creeks', 'drapes', 'utterances', 'slaves', 'birdies', 'forecasts', 'publications', 'snowflakes', 'deprivations', 'self-portraits', 'superhighways', 'lists', 'hydroxides', 'privileges', 'statuses', 'troubles', 'advisors', 'losers', 'flannels', 'understandings', 'imitators', 'cups', 'hearts', 'gray-backs', 'alloys', 'conjugates', 'subterfuges', 'pounds', 'holdings', 'agonies', 'frogs', 'travels', 'staircases', 'dissatisfactions', 'fashions', 'fractions', 'discussions', 'copyrights', 'estuaries', 'derelicts', 'prophets', 'comments', 'borates', 'eaters', 'nitrates', 'hoosegows', 'clusters', 'cathedrals', 'exertions', 'seed-pods', 'nectaries', 'breeches', 'playmates', 'styles', 'trumps', 'legislators', 'feedings', 'offenses', 'mystics', 'shotshells', 'positivists', 'nights', 'performers', 'castanets', 'pheasants', 'aerials', 'bulkheads', 'juices', 'prophecies', 'attackers', 'flakes', 'embraces', 'lizards', 'features', 'constitutions', 'sensitives', 'pistons', 'alkylbenzenesulfonates', 'gains', 'wholesalers', 'bogeys', 'blooms', 'misrepresentations', 'microfossils', 'crystals', 'tracts', 'nephews', 'rolls', 'hinges', 'tendons', 'metaphysicals', 'mutations', 'manipulators', 'tenses', 'home-comings', 'outrages', 'proclivities', 'teaspoonfuls', 'fames', 'ordinances', 'commanders', 'writers', 'grits', 'sailors', 'arrows', 'tunes', 'gestures', 'selves', 'sorts', 'abutments', 'runs', 'bouquets', 'seals', 'deductibles', \"1920's\", \"1860's\", 'impressions', 'sequences', 'lagers', 'hoofs', 'evaluations', 'morsels', 'diets', 'volumes', 'consonants', 'verandas', 'pecans', 'hosts', 'playbacks', 'flames', 'banquetings', 'tallies', 'kicks', 'gliders', 'vacations', 'throats', 'woolworkers', 'adults', 'boughs', 'cigars', 'teas', 'obligations', 'liabilities', 'ex-convicts', 'accompaniments', 'herons', 'halos', 'latitudes', 'groups', 'incompatibles', 'greases', 'psychiatrists', 'deadheads', 'contractors', 'signals', 'gambits', 'bricklayers', 'life-preservers', 'creams', 'casuals', 'extremes', 'cuts', 'towers', 'aerosols', 'longhorns', 'questionnaires', 'foothills', 'erasers', 'resins', 'noses', 'nos', 'tomatoes', 'arts', 'birds', 'vases', 'kisses', 'crops', 'breakups', 'trends', 'appliances', 'skis', 'tractors', 'socks', 'bumblebees', 'leagues', 'excavations', 'natives', 'desserts', 'styrenes', 'hauls', 'distractions', 'assistants', 'graybeards', 'inboards', 'lentils', 'reports', 'mobcaps', 'conducts', 'transcripts', 'admonishments', 'shelters', 'zlotys', 'strokes', 'satellites', 'marinas', 'testings', 'halides', 'waitresses', 'old-timers', 'sages', 'defects', 'escapees', 'pyrometers', 'alleyways', 'refrigerators', 'intruders', 'bores', 'predicting-machines', 'fingerings', 'repositories', 'studios', 'jurisdictions', 'revolts', 'spaces', 'particulars', 'leavings', 'drapers', 'bloodstains', 'sororities', 'value-judgments', 'views', 'franks', 'canals', 'chocks', 'ringings', 'fraternities', 'pies', 'cohorts', 'gardenias', '1880s', 'appropriations', 'towns', 'wrestles', 'cardinals', 'creatures', 'owners', 'hints', 'bathers', 'developers', 'swans', 'copolymers', 'renditions', 'small-arms', 'doubles', 'twinges', 'amplifiers', 'wars', 'engravings', 'non-dramas', 'tribunals', 'veils', 'innings', 'chives', 'transfusions', 'pacers', 'chips', 'firebreaks', 'snapdragons', 'gaucheries', 'musicals', 'utensils', 'leggings', 'microscopes', 'unknowns', 'specks', 'idiocies', 'diapers', 'spoils', 'forepaws', 'desolations', 'inlets', 'rails', 'jaws', 'tendencies', 'counselors', 'scientists', 'fields', 'thyroids', 'excuses', 'protestations', 'values', 'batteries', 'debentures', 'falls', 'appraisers', \"'20s\", 'umbrellas', 'shims', 'infestations', 'deferments', \"'50's\", 'clubs', 'perfumes', 'neuroses', 'sands', 'paperbacks', 'hindrances', 'tosses', 'nightclubs', 'hayfields', 'perils', 'wieners', 'farmers', 'singers', 'attachments', 'tanks', 'backs', 'corridors', 'catches', 'stairs', 'boards', 'haunts', 'bleeps', 'fantasies', 'pedestrians', 'youngsters', 'dislocations', 'sheriffs', 'hoops', 'anodes', 'materials', 'monographs', 'shames', 'chills', 'teratologies', 'motifs', 'tutors', 'stiffs', 'practices', 'filberts', 'authors', 'subs', 'incompetents', 'anomalies', 'viewpoints', 'floods', 'evils', 'ducks', 'compulsives', 'angels', 'pastels', 'stepladders', \"1930's\", 'serviettes', 'dynamics', 'cookies', 'fixers', 'ordinates', 'haystacks', 'miniatures', 'disputes', 'levis', 'setbacks', 'trimmings', 'catastrophes', 'volcanos', 'pickers', 'properties', 'pushes', 'participants', 'capitalists', 'evildoers', 'marches', 'aggressions', 'tributes', 'submariners', 'arches', 'exteriors', 'martinis', 'hops', 'hopes', 'coins', 'sheds', 'prowlers', 'ex-bandits', 'glanders', 'arrests', 'enticements', 'boyars', 'baseballs', 'mores', 'cowbirds', 'albums', 'ponies', 'breaks', '24-degrees', 'cherries', 'mushrooms', 'operas', 'hay-shakers', 'burglars', 'vests', 'withes', 'replies', 'bevels', 'orchestrations', 'aspirations', 'asses', 'huggings', 'machines', 'fathers', 'lighthouses', 'orgasms', 'modernists', 'driveways', 'robbers', 'advertisements', 'ward-heelers', 'colleagues', 'outbursts', 'many-times', 'obstacles', 'inclinations', 'splotches', 'rulers', 'beakers', 'tubers', 'pups', 'deans', 'indications', 'boats', 'averages', 'infringements', 'silhouettes', 'growers', 'parimutuels', 'oafs', 'corrections', 'snips', 'bets', 'deltoids', 'generators', 'deformities', 'bake-offs', 'adjectives', 'molars', 'droppings', 'billows', 'guffaws', 'universals', 'peas', 'charts', 'bazaars', 'thermostats', 'observers', 'baths', 'ruins', 'occupancies', 'periods', 'polyesters', 'ashtrays', 'pangs', 'postures', 'watersheds', 'heelers', 'anthropologists', 'mavericks', 'rapes', 'seats', 'micelles', 'fumes', 'mouths', 'buggers', 'extremists', 'scans', 'clowns', 'babes', 'husbands', 'immensities', 'presuppositions', 'sneakers', 'archangels', 'by-ways', 'flappers', 'earphones', 'broncs', 'anniversaries', 'decreases', 'banshees', 'laughs', 'marionettes', 'adolescents', 'wires', 'telegraphers', 'fortresses', 'investigators', 'cheerleaders', 'oldies', 'auto-loaders', 'births', 'suspicions', 'nymphomaniacs', 'gears', 'coincidences', 'troughs', 'issues', 'boos', 'nozzles', 'thinkers', 'fragrances', 'weeks', 'deeps', 'vitamins', 'champions', 'wraps', 'branches', 'lands', 'contrasts', 'shakes', 'hallelujahs', 'nudes', 'mansions', 'slave-laborers', 'complaints', 'mentalities', 'pseudo-questions', 'connotations', 'pupils', 'ballads', 'solos', 'staples', 'punishments', 'mountings', 'antiquities', 'governments', 'sites', 'chins', 'sermons', 'marines', 'prodigies', 'ants', 'secrets', 'blacks', 'skeletons', 'industrialists', 'talons', 'electrons', 'growths', 'guts', 'roses', 'bequests', 'cereals', 'novelties', 'paragraphs', 'survivors', 'nipples', 'stations', 'beasties', 'injunctions', 'glycols', 'guns', 'annoyances', 'facilities', 'helmets', 'sardines', 'nooks', 'instruments', 'insets', 'equals', 'tropics', 'gallons', 'enclaves', 'purchases', 'dramatists', 'articulations', 'contributors', 'cavalcades', 'survivals', 'semi-conductors', 'run-ups', 'posts', 'instances', 'miners', 'salvos', 'landlords', 'admonitions', 'proteases', 'jobs-tears', 'patrons', 'simples', 'masks', 'crafts', 'habits', 'genealogies', 'ashes', 'backgrounds', 'parrots', 'buildings', 'episodes', 'hates', 'presidents', 'folders', 'canoes', 'restaurants', 'rebels', 'ravages', 'buds', 'buttonholes', 'best-sellers', 'moons', 'relationships', 'ducts', 'primaries', 'bribers', 'balls', 'flicks', 'lineages', 'insinuations', 'monomers', 'shrugs', 'islanders', 'stems', 'hogs', 'ballerinas', 'parliaments', 'probings', 'preconceptions', 'skylights', '1940s', 'pulls', 'brewers', 'rodents', 'registries', 'hues', 'arteries', 'blockages', 'summers', 'engagements', 'transitions', 'fifties', 'tusks', 'ruffians', 'theatres', 'mares', 'vices', 'cynics', 'estates', 'offers', 'reins', 'spans', 'defenders', 'exchanges', 'details', 'girls', 'panties', 'constables', 'near-strangers', 'pyramids', 'abscesses', 'connections', 'insomniacs', 'fillies', 'links', 'detectives', 'crooks', 'wallpapers', 'rhinos', 'tentacles', 'nigras', 'rods', 'omissions', 'exponents', 'bicycles', 'followers', 'clips', 'bigots', 'surmises', 'festivities', 'stables', 'inscriptions', 'manuscripts', 'accesses', 'pioneers', 'garages', 'hemorrhoids', 'researches', 'teaspoons', 'aggregations', 'sobs', 'sensitivities', 'witches', 'gaslights', 'screams', 'soaps', 'assets', 'appointees', 'atrocities', 'tumours', 'juniors', 'cavities', 'grocers', 'cloves', '-20-degrees', 'exposures', 'immigrants', 'associates', 'surveys', 'strongrooms', 'producers', 'reformers', 'interruptions', 'endpoints', 'inaccuracies', 'paths', 'bovines', 'formats', 'bearings', 'fortune-tellers', 'calendars', 'adulterers', 'alkaloids', 'knees', 'poseurs', 'radiations', 'contusions', 'adverbs', 'acknowledgments', 'depredations', 'illuminations', 'seconds', 'near-synonyms', 'syndicates', 'showings', 'dunes', 'provinces', 'accents', 'saddles', 'sauces', 'fenders', 'watchers', 'wings', 'meanings', 'craters', 'escutcheons', 'cues', 'feathers', 'grasslands', 'assurances', 'perforations', 'salves', 'bandoleers', 'monopolists', 'reminiscences', 'orchestras', 'housebreakers', 'counter-moves', 'hymns', 'pageants', 'occasions', 'decades', 'binoculars', 'chances', 'addicts', 'shards', 'thrillers', 'down-payments', 'amounts', 'jokers', 'quotas', 'harvests', 'nufs', 'talents', 'variables', 'chlorides', 'non-residents', 'reference-points', 'seafarers', 'contraceptives', 'eatings', 'interactions', 'pros', 'bereavements', 'hunts', 'subspaces', 'pranks', 'textures', 'installations', 'bullets', 'rustlers', 'compromises', 'hoses', 'place-names', 'lances', 'areas', 'jurors', 'accretions', 'distributions', 'cabinets', 'affections', 'provisons', 'horns', 'over-achievers', 'hearers', 'flyers', 'conventions', 'pails', 'cowhands', 'guiftes', 'af-values', 'mixtures', 'mugs', 'pipes', 'pagans', 'colleges', 'milligrams', 'bookings', 'structures', 'thousandths', 'shakers', 'sopranos', 'miseries', 'diversions', 'casts', 'endowments', 'dogmas', 'investigations', 'forerunners', 'mists', 'sittings', 'snapshots', 'supplements', 'drunks', 'irons', 'near-equivalents', 'bonzes', 'maidens', 'fermentations', 'absorptions', 'solitudes', 'washes', 'metalsmiths', 'travellers', 'packets', 'frontiers', 'hinterlands', 'frills', 'censures', 'programmes', 'brunettes', 'axles', 'finances', 'complications', 'executions', 'allowances', 'viewers', 'moneys', '1950s', 'outlets', 'despots', 'cables', 'inserts', 'controversies', 'pistols', 'hirelings', 'meditations', 'orphans', 'bombs', 'indices', 'variations', 'salts', 'generalists', 'frolics', 'slave-owners', 'novels', 'courtiers', 'stands', 'impulses', 'muggers', 'trademarks', 'freeholders', 'chords', 'oldsters', 'lasses', 'poises', 'hardships', 'separations', 'contingencies', 'lumps', 'harmonies', 'psyches', 'interstices', 'soothsayers', 'intestines', 'encounters', 'swoops', 'windows', 'wagons', 'cafes', 'grotesques', 'ancestors', 'explosives', 'journalists', 'physicists', 'unities', 'provocateurs', 'colts', 'yokels', 'palisades', 'formulations', 'passes', 'silences', 'navels', 'wage-rates', 'groupings', 'potions', 'toilets', 'precautions', 'archaeologists', 'foals', 'establishments', '8-balls', 'exhibits', 'borders', 'parts-suppliers', 'cubists', 'harelips', 'partitions', 'complements', 'hoods', 'celebrations', 'hangers', 'comets', 'suppositions', 'modules', 'whiskers', 'screens', 'pieces', 'iniquities', 'soyaburgers', 'screws', 'chilblains', 'obediences', 'landslides', 'insights', 'risks', 'deportees', 'palindromes', 'premonitions', 'pots', 'wits', 'modes', 'studies', 'privies', 'plastics', 'reprisals', 'ballards', 'efficiencies', 'sighs', 'promises', 'teahouses', 'coupons', 'lanterns', 'obscenities', 'nails', 'trusts', 'feelings', 'intermediates', 'pearls', 'reductions', 'monkeys', 'goods', 'non-conformists', 'treasures', 'derails', 'lots', 'breaths', 'cahoots', 'hazards', 'poultices', 'strategists', 'avocados', 'interchanges', 'hostelries', 'fabrics', 'peanuts', 'distinctions', 'exemptions', 'orderings', 'exacerbations', 'speeches', 'safeguards', 'churches', 'vampires', 'hens', 'motors', 'struggles', 'yassuhs', 'gulps', 'movements', 'drains', 'automobiles', 'dwarfs', 'covers', 'revolutions', 'cosmologists', 'wives', 'armaments', 'conversations', 'briefs', 'judgements', 'life-contracts']\n"
     ]
    }
   ],
   "source": [
    "# compare singular vs plural \n",
    "more_common_plural = [\n",
    "    w for w in set(sN.keys()) | set(pN.keys())\n",
    "    if pN[w] > sN[w] and w.endswith(\"s\")\n",
    "]\n",
    "print(\"Words where plural is more common (regular -s):\", more_common_plural)"
   ]
  },
  {
   "cell_type": "markdown",
   "id": "de3c32c8-f224-45e2-9379-867b4a9aa93f",
   "metadata": {},
   "source": [
    "Which word has the greatest number of distinct tags. What are they, and what do they represent?  Hint: Go through every tagged word in the corpus (brown.tagged_words()) and build a dictionary where the key is the word and the value stored is a set of tags for that word.   \n",
    "\n"
   ]
  },
  {
   "cell_type": "code",
   "execution_count": 9,
   "id": "78c28002-a0ea-44f8-bd67-b94ae1745d19",
   "metadata": {},
   "outputs": [
    {
     "data": {
      "text/plain": [
       "('that',\n",
       " {'CS',\n",
       "  'CS-HL',\n",
       "  'CS-NC',\n",
       "  'DT',\n",
       "  'DT-HL',\n",
       "  'DT-NC',\n",
       "  'DT-TL',\n",
       "  'NIL',\n",
       "  'QL',\n",
       "  'WPO',\n",
       "  'WPO-NC',\n",
       "  'WPS',\n",
       "  'WPS-HL',\n",
       "  'WPS-NC',\n",
       "  'WPS-TL'})"
      ]
     },
     "execution_count": 9,
     "metadata": {},
     "output_type": "execute_result"
    }
   ],
   "source": [
    "# used nltk approach \n",
    "tags_dict = {}\n",
    "for word, tag in taggedWords:\n",
    "    word = word.lower()\n",
    "    if word not in tags_dict:\n",
    "        tags_dict[word] = set()\n",
    "    tags_dict[word].add(tag) \n",
    " \n",
    "        \n",
    "sorted_items_desc = sorted(tags_dict.items(), key=lambda item: len(item[1]),reverse= True)\n",
    "sorted_items_desc[0]"
   ]
  },
  {
   "cell_type": "markdown",
   "id": "e9c5a400-cebb-4d3e-bf90-c2c7a27f4f51",
   "metadata": {},
   "source": [
    "| Tag      | Main POS                    \n",
    "| -------- | --------------------------------------- \n",
    "| `CS`     | Subordinating conjunction               \n",
    "| `CS-HL`  | Subordinating conjunction              \n",
    "| `CS-NC`  | Subordinating conjunction               \n",
    "| `DT`     | Determiner                             \n",
    "| `DT-NC`  | Determiner                          \n",
    "| `NIL`    | Punctuation / unclassified token        \n",
    "| `QL`     | Qualifier (modifies adjectives/adverbs) \n",
    "| `WPO`    | Wh-pronoun, object form                 \n",
    "| `WPO-NC` | Wh-pronoun, object form                \n",
    "| `WPS`    | Wh-pronoun, subject form              \n",
    "| `WPS-HL` | Wh-pronoun, subject form                \n",
    "| `WPS-NC` | Wh-pronoun, subject form                "
   ]
  },
  {
   "cell_type": "markdown",
   "id": "8543267c-e6fb-465f-be94-a61483288fb0",
   "metadata": {},
   "source": [
    "Which tags are nouns most commonly found after? What do these tags represent? \n",
    "\n",
    "Hint:  Assume a word is a noun if its tag contains \"NN\".   '\n",
    "\n",
    "Go through the list of tagged words, keeping track of whether the current word is a noun. \n",
    "\n",
    "If it is, look at the tag of the previous word.  \n",
    "\n",
    "Maintain a dictionary where the key is a part-of-speech tag and the value is the count of how many times it has been seen before a noun."
   ]
  },
  {
   "cell_type": "code",
   "execution_count": 14,
   "id": "b2c67dda-287e-4fee-a215-ed594c2bee37",
   "metadata": {},
   "outputs": [
    {
     "name": "stdout",
     "output_type": "stream",
     "text": [
      "Most common tas before nouns: [('AT', 59802)]\n"
     ]
    }
   ],
   "source": [
    "# nltk 2.4 code\n",
    "# create bigrams from the tagged words\n",
    "word_tag_bigrams = nltk.bigrams(taggedWords)\n",
    "\n",
    "# collect tags that appear immediately before a noun\n",
    "noun_preceders = []\n",
    "for (prev_word, prev_tag), (curr_word, curr_tag) in word_tag_bigrams:\n",
    "    if \"NN\" in curr_tag:  # current word is any noun\n",
    "        noun_preceders.append(prev_tag)\n",
    "\n",
    "# frequency distribution of tags preceding nouns\n",
    "fdist = Counter(noun_preceders)\n",
    "\n",
    "# most common preceding tags\n",
    "most_common_preceders = fdist.most_common(1)\n",
    "print(\"Most common tas before nouns:\", most_common_preceders)"
   ]
  },
  {
   "cell_type": "markdown",
   "id": "59c731b2-174a-4d03-9658-a120c93be7e1",
   "metadata": {},
   "source": [
    "# Problem 4: Supervised Learning\n",
    "## For the movie review document classification task in Chapter 6, using the same training and test data, and the same feature extractor,\n",
    "  \n",
    "\n",
    "### B) Now remove the stop words from the corpus.  Rerun your experiment.  How do the results compare? \n",
    "\n",
    " ### C) Now, use the trick of modifying the corpus so that if \"not\" appears in a sentence, the vocabulary of all the words in the same sentence that occur after \"not\" are modified to be not_{word}.   For instance, if the sentence is \"I do not like the action in this movie.\", you would modify it to \"I do not not_like not_the not_action not_in not_this not_movie.\"  According to Jurafsky and Martin, this should give better results.  Does it?\n",
    "\n"
   ]
  },
  {
   "cell_type": "markdown",
   "id": "b6404b3f-cb9b-4f80-bd53-c91595b68b4a",
   "metadata": {},
   "source": [
    "### A) Build three classifiers for the task: a decision tree, a naive Bayes classifier, and a Maximum Entropy classifier. Compare the performance of the three classifiers on your selected task.  \n",
    "- For your comparison, look at accuracy, precision and recall.\n",
    "- [Note the book has already done this for you with the naive Bayes classifier.  You can just repeat the same code with a few changes for a decision tree classifier and a maximum entropy classifier."
   ]
  },
  {
   "cell_type": "code",
   "execution_count": 16,
   "id": "17036d90-29e4-41b8-a4da-1ccb3f989783",
   "metadata": {},
   "outputs": [],
   "source": [
    "# movie classifier \n",
    "\n",
    "# import movie reviews \n",
    "from nltk.corpus import movie_reviews\n",
    "import random"
   ]
  },
  {
   "cell_type": "code",
   "execution_count": 17,
   "id": "ba93550b-69b8-4e86-8574-ef4b9988c195",
   "metadata": {},
   "outputs": [],
   "source": [
    "# construct a list of documents labeled with the appropriate category , use this for training and testing , gold standard\n",
    "# documents will be a list of tuples where the first term is all the words for that specific file, and the second is the category \n",
    "documents = [(list(movie_reviews.words(fileid)), category)\n",
    "             # go thru each category for movies\n",
    "             for category in movie_reviews.categories()\n",
    "             # for each file in that category , retrive the words^, and category\n",
    "              for fileid in movie_reviews.fileids(category)]\n",
    "random.shuffle(documents)"
   ]
  },
  {
   "cell_type": "code",
   "execution_count": 18,
   "id": "08abb5c7-319d-41ff-9b12-49d4bd89223e",
   "metadata": {},
   "outputs": [],
   "source": [
    "\"\"\" define the feature extractor \n",
    "- each word will be a feature,\n",
    "so whether or not the document contains that word is a feature. \n",
    "take 2000 most common words in the corpus\"\"\"\n",
    "\n",
    "# get the freqDist the words in the movie_review\n",
    "all_words = nltk.FreqDist(w.lower() for w in movie_reviews.words())\n",
    "# get the 2000 most freq words \n",
    "word_features = list(all_words)[:2000]\n"
   ]
  },
  {
   "cell_type": "code",
   "execution_count": 19,
   "id": "920955a1-a290-41ed-8f74-e5024c2d3d22",
   "metadata": {},
   "outputs": [],
   "source": [
    "# build the feature extractor \n",
    "# take the document (words, category)\n",
    "def document_features(document): \n",
    "    # get all the unique words in the document , vocabulary |V|\n",
    "    document_words = set(document) \n",
    "    # init a dict\n",
    "    features = {}\n",
    "    # go through each freq word (2000 most occuring)\n",
    "    for word in word_features:\n",
    "        # set boolean for each unique word, whether it occurs or not\n",
    "        features['contains({})'.format(word)] = (word in document_words)\n",
    "    return features"
   ]
  },
  {
   "cell_type": "code",
   "execution_count": 20,
   "id": "65c0b731-00e0-444f-95d8-c73c8dfa8767",
   "metadata": {},
   "outputs": [],
   "source": [
    "# train the feature classifier\n",
    "# list of tuples where d is the dictionary containing whether a word is present or not and c is category\n",
    "featuresets = [(document_features(d), c) for (d,c) in documents]\n",
    "# split the set into training and test \n",
    "train_set, test_set = featuresets[100:], featuresets[:100]\n",
    "\n",
    "# run naive bayes on training\n",
    "bayesclassifier = nltk.NaiveBayesClassifier.train(train_set)"
   ]
  },
  {
   "cell_type": "code",
   "execution_count": 21,
   "id": "59341024-897d-4a5b-b1f1-9c89613c96a9",
   "metadata": {},
   "outputs": [],
   "source": [
    "# run a decision tree \n",
    "decisionclassifier = nltk.DecisionTreeClassifier.train(train_set)"
   ]
  },
  {
   "cell_type": "code",
   "execution_count": 22,
   "id": "9124a886-649b-4cc2-bf37-32dc4b57d405",
   "metadata": {},
   "outputs": [
    {
     "name": "stdout",
     "output_type": "stream",
     "text": [
      "  ==> Training (10 iterations)\n",
      "\n",
      "      Iteration    Log Likelihood    Accuracy\n",
      "      ---------------------------------------\n",
      "             1          -0.69315        0.502\n",
      "             2          -0.69055        0.603\n",
      "         Final          -0.68798        0.793\n"
     ]
    }
   ],
   "source": [
    "# run a maximum entropy\n",
    "maxentropyclassifier =  nltk.MaxentClassifier.train(train_set, \n",
    "    algorithm='GIS',  \n",
    "    max_iter=10,      \n",
    "    min_lldelta=0.01 \n",
    "                                                   )"
   ]
  },
  {
   "cell_type": "code",
   "execution_count": 23,
   "id": "05c457db-0d30-4faf-a560-06003bb769db",
   "metadata": {},
   "outputs": [
    {
     "name": "stdout",
     "output_type": "stream",
     "text": [
      "Naive Bayes Classifier:\n",
      "\n",
      "Class      Precision  Recall    \n",
      "---------------------------------------------\n",
      "pos        0.826      0.826     \n",
      "neg        0.852      0.852     \n",
      "\n",
      "Overall Accuracy: 0.840\n",
      "\n",
      "Decision Tree Classifier:\n",
      "\n",
      "Class      Precision  Recall    \n",
      "---------------------------------------------\n",
      "pos        0.571      0.696     \n",
      "neg        0.682      0.556     \n",
      "\n",
      "Overall Accuracy: 0.620\n",
      "\n",
      "Maximum Entropy Classifier:\n",
      "\n",
      "Class      Precision  Recall    \n",
      "---------------------------------------------\n",
      "pos        0.652      0.978     \n",
      "neg        0.968      0.556     \n",
      "\n",
      "Overall Accuracy: 0.750\n"
     ]
    },
    {
     "data": {
      "text/plain": [
       "0.75"
      ]
     },
     "execution_count": 23,
     "metadata": {},
     "output_type": "execute_result"
    }
   ],
   "source": [
    "# calculate precision and recall for bayes classifer , decision tree, and maximum entropy \n",
    "from nltk.metrics import precision, recall, f_measure\n",
    "from nltk.classify import accuracy as nltk_classify_accuracy  \n",
    "\n",
    "# note: used genAI to figure out the best method for getting precision and recall since I could not find it in the NLTK book\n",
    "# write a function that that evaluates a given classifier, that way can encapsulate precision recall and accuracy \n",
    "def evaluate_classifier(classifier,test_set):\n",
    "    # get the predictions , i.e what the model thinks the classification of the document is , in this case sentiment based on words in movie review\n",
    "    refsets = {'pos': set(), 'neg': set()}  # Actual labels\n",
    "    testsets = {'pos': set(), 'neg': set()} # Predicted label\n",
    "\n",
    "    # populate the refsets and testsets\n",
    "    for i, (features,label) in enumerate(test_set):\n",
    "        refsets[label].add(i)\n",
    "        predicted = classifier.classify(features)\n",
    "        testsets[predicted].add(i)\n",
    "\n",
    "    # Calculate metrics for each class\n",
    "    print(f\"\\n{'Class':<10} {'Precision':<10} {'Recall':<10}\")\n",
    "    print(\"-\" * 45)\n",
    "\n",
    "    # for each classification calculate precision and recall \n",
    "    for label in ['pos', 'neg']:\n",
    "        prec = precision(refsets[label],testsets[label])\n",
    "        rec = recall(refsets[label], testsets[label])\n",
    "\n",
    "        print(f\"{label:<10} {prec:<10.3f} {rec:<10.3f}\")\n",
    "\n",
    "\n",
    "              # Overall accuracy\n",
    "    acc = nltk_classify_accuracy (classifier, test_set)\n",
    "    print(f\"\\nOverall Accuracy: {acc:.3f}\")\n",
    "\n",
    "\n",
    "        \n",
    "    return acc\n",
    "\n",
    "\n",
    "# Evaluate all classifiers\n",
    "\n",
    "print(\"Naive Bayes Classifier:\")\n",
    "evaluate_classifier(bayesclassifier, test_set)\n",
    "\n",
    "print(\"\\nDecision Tree Classifier:\")\n",
    "evaluate_classifier(decisionclassifier, test_set)\n",
    "\n",
    "print(\"\\nMaximum Entropy Classifier:\")\n",
    "evaluate_classifier(maxentropyclassifier, test_set)\n",
    "\n",
    "\n",
    "\n",
    "            \n",
    "            \n",
    "        \n",
    "            \n",
    "\n"
   ]
  },
  {
   "cell_type": "markdown",
   "id": "63f0cdb7-b8d6-4ba1-9aa5-22f337b42a3b",
   "metadata": {},
   "source": [
    "### A) comparison \n",
    "Naive bayes seems to be the best classifier out of all the 3, the max ent looks like it is overfitting since the accuracy is very low and the pos precision is 1, recall is extremeley low, whihc indicates, the model is incorrectly identifying everything as neg and not catching any positive reviews. bayes had better performannce than the decision tree with higher precison, recall and accuracy. decision trees can sometimes overfit if not limited by hyperparameters tuning (from what i remember from ML) so this could be a local possibility."
   ]
  },
  {
   "cell_type": "markdown",
   "id": "8cbaacbe-faf1-4d30-8e53-379989d51bfa",
   "metadata": {},
   "source": [
    "# B removing stop words from the corpus"
   ]
  },
  {
   "cell_type": "code",
   "execution_count": 24,
   "id": "e1ac46eb-f03c-4497-be29-529fb53e98da",
   "metadata": {
    "scrolled": true
   },
   "outputs": [
    {
     "name": "stderr",
     "output_type": "stream",
     "text": [
      "[nltk_data] Downloading package stopwords to /home/jovyan/nltk_data...\n",
      "[nltk_data]   Package stopwords is already up-to-date!\n"
     ]
    }
   ],
   "source": [
    "# recreate dataset without stop words\n",
    "from nltk.corpus import stopwords\n",
    "nltk.download('stopwords')  \n",
    "stop_words = set(stopwords.words('english'))\n",
    "# now have a set of common english stop words "
   ]
  },
  {
   "cell_type": "code",
   "execution_count": 29,
   "id": "feba8e7b-b587-45ad-885f-ffbeebba7a27",
   "metadata": {},
   "outputs": [],
   "source": [
    "# now just need to modify document feature extractor tyo only extract words that are not in the stopwoirds\n",
    "word_features_noSW = [w for w in word_features if w not in stop_words]\n",
    "\n",
    "def document_features_nostopwords(document): \n",
    "    document_words = set(document)\n",
    "    features = {}\n",
    "    for word in word_features_noSW:\n",
    "        features['contains({})'.format(word)] = (word in document_words)\n",
    "    return features\n",
    "\n",
    "featuresetsnoSW = [(document_features_nostopwords(d), c) for (d,c) in documents]\n",
    "train_set, test_set = featuresetsnoSW[100:], featuresetsnoSW[:100]"
   ]
  },
  {
   "cell_type": "code",
   "execution_count": 30,
   "id": "7a6f5398-bb2e-4bd7-9764-a5c4f9af677f",
   "metadata": {},
   "outputs": [],
   "source": [
    "# train the feature classifier\n",
    "# list of tuples where d is the dictionary containing whether a word is present or not and c is category\n",
    "featuresetsnoSW = [(document_features_nostopwords(d), c) for (d,c) in documents]\n",
    "# split the set into training and test \n",
    "train_set, test_set = featuresetsnoSW[100:], featuresetsnoSW[:100]"
   ]
  },
  {
   "cell_type": "code",
   "execution_count": 31,
   "id": "96c1883a-2359-4065-a5f3-05e8ddb23303",
   "metadata": {},
   "outputs": [
    {
     "name": "stdout",
     "output_type": "stream",
     "text": [
      "  ==> Training (10 iterations)\n",
      "\n",
      "      Iteration    Log Likelihood    Accuracy\n",
      "      ---------------------------------------\n",
      "             1          -0.69315        0.502\n",
      "             2          -0.69053        0.597\n",
      "         Final          -0.68795        0.802\n"
     ]
    }
   ],
   "source": [
    "# run classifiers on training set with stop words removed\n",
    "\n",
    "# run naive bayes on training\n",
    "bayesclassifier = nltk.NaiveBayesClassifier.train(train_set)\n",
    "# run a decision tree \n",
    "decisionclassifier = nltk.DecisionTreeClassifier.train(train_set)\n",
    "# max ent\n",
    "maxentropyclassifier =  nltk.MaxentClassifier.train(train_set, \n",
    "    algorithm='GIS',  \n",
    "    max_iter=10,      \n",
    "    min_lldelta=0.01 \n",
    "                                                   )"
   ]
  },
  {
   "cell_type": "code",
   "execution_count": 32,
   "id": "f82b81bd-4346-4eb7-abdf-6936328cb537",
   "metadata": {},
   "outputs": [
    {
     "name": "stdout",
     "output_type": "stream",
     "text": [
      "Naive Bayes Classifier:\n",
      "\n",
      "Class      Precision  Recall    \n",
      "---------------------------------------------\n",
      "pos        0.822      0.804     \n",
      "neg        0.836      0.852     \n",
      "\n",
      "Overall Accuracy: 0.830\n",
      "\n",
      "Decision Tree Classifier:\n",
      "\n",
      "Class      Precision  Recall    \n",
      "---------------------------------------------\n",
      "pos        0.608      0.674     \n",
      "neg        0.694      0.630     \n",
      "\n",
      "Overall Accuracy: 0.650\n",
      "\n",
      "Maximum Entropy Classifier:\n",
      "\n",
      "Class      Precision  Recall    \n",
      "---------------------------------------------\n",
      "pos        0.647      0.957     \n",
      "neg        0.938      0.556     \n",
      "\n",
      "Overall Accuracy: 0.740\n"
     ]
    },
    {
     "data": {
      "text/plain": [
       "0.74"
      ]
     },
     "execution_count": 32,
     "metadata": {},
     "output_type": "execute_result"
    }
   ],
   "source": [
    "# evaluate classifiers with new feature aspect: stop words removed\n",
    "\n",
    "print(\"Naive Bayes Classifier:\")\n",
    "evaluate_classifier(bayesclassifier, test_set)\n",
    "\n",
    "print(\"\\nDecision Tree Classifier:\")\n",
    "evaluate_classifier(decisionclassifier, test_set)\n",
    "\n",
    "print(\"\\nMaximum Entropy Classifier:\")\n",
    "evaluate_classifier(maxentropyclassifier, test_set)\n"
   ]
  },
  {
   "cell_type": "markdown",
   "id": "f97d27b8-0d18-4cfc-bf4f-5edfa1789837",
   "metadata": {},
   "source": [
    "It looks like removing stop words slightly increased the accuracy for decision tree and bayes. precision and recall also improved for decision tree, probably because removing stop words allowed it to avoid overfitting and instead focusing on important words rather than stopwords. "
   ]
  },
  {
   "cell_type": "markdown",
   "id": "2825ca73-0f52-4cbb-ae2f-4396c81f8bcb",
   "metadata": {},
   "source": [
    "# C Modifying the vocab woith NOT negation"
   ]
  },
  {
   "cell_type": "code",
   "execution_count": 26,
   "id": "fdd6e1db-5b3a-4c35-b76f-e28e9e01c9fe",
   "metadata": {},
   "outputs": [],
   "source": [
    "negation_words = {'not', \"n't\"}\n",
    "punctuation = {'.', '!', '?'}\n",
    "# create a function to mark negation in the words in each document\n",
    "def mark_negation(document):\n",
    "    # create a new document\n",
    "    new_doc = []\n",
    "    # create a negative boolean flag that will be set to true when a negation word is encountered \n",
    "    negative = False\n",
    "    # loop thru each word in the document\n",
    "    for word in document:\n",
    "        # conver tto lower case\n",
    "        lw = word.lower()\n",
    "        # word is not or n't \n",
    "        if lw in negation_words:\n",
    "            # set the flag to true and add the word to the document \n",
    "            negative = True\n",
    "            new_doc.append(lw)  \n",
    "            # if the flag is up then modify the word with the negaation \n",
    "        elif negative:\n",
    "            new_doc.append(f\"not_{lw}\") \n",
    "        else:\n",
    "            new_doc.append(lw)\n",
    "        # if puncuation is encountered now the flag set to false and regular words are added\n",
    "        if lw in punctuation:\n",
    "            negative = False \n",
    "    # returns an array of words for each document with negations\n",
    "    return new_doc\n",
    "\n",
    "# create documents negated "
   ]
  },
  {
   "cell_type": "code",
   "execution_count": 27,
   "id": "edb2f339-01af-4f53-b1b7-9fe56b4e4f8f",
   "metadata": {},
   "outputs": [],
   "source": [
    "# create documents negated , returns a list of tuples containing the negation cotaining list and classifcation pair for each document\n",
    "documents_negated = [(mark_negation(d), c) for (d, c) in documents]\n",
    "# extract features as normal just from documents_negated\n",
    "featuresets = [(document_features(d), c) for (d,c) in documents_negated]\n",
    "# split the set into training and test \n",
    "train_set, test_set = featuresets[100:], featuresets[:100]"
   ]
  },
  {
   "cell_type": "code",
   "execution_count": 29,
   "id": "545077c0-2866-4211-b94c-731668a7ad5f",
   "metadata": {},
   "outputs": [
    {
     "name": "stdout",
     "output_type": "stream",
     "text": [
      "  ==> Training (10 iterations)\n",
      "\n",
      "      Iteration    Log Likelihood    Accuracy\n",
      "      ---------------------------------------\n",
      "             1          -0.69315        0.503\n",
      "             2          -0.69054        0.517\n",
      "         Final          -0.68800        0.695\n"
     ]
    }
   ],
   "source": [
    "# train and test classifers as normal \n",
    "bayesclassifier = nltk.NaiveBayesClassifier.train(train_set)\n",
    "# run a decision tree \n",
    "decisionclassifier = nltk.DecisionTreeClassifier.train(train_set)\n",
    "# max ent\n",
    "maxentropyclassifier =  nltk.MaxentClassifier.train(train_set, \n",
    "    algorithm='GIS',  \n",
    "    max_iter=10,      \n",
    "    min_lldelta=0.01 )"
   ]
  },
  {
   "cell_type": "code",
   "execution_count": 30,
   "id": "9f5d035b-1ab6-4f6c-90ec-c87155155f16",
   "metadata": {},
   "outputs": [
    {
     "name": "stdout",
     "output_type": "stream",
     "text": [
      "Naive Bayes Classifier:\n",
      "\n",
      "Class      Precision  Recall    \n",
      "---------------------------------------------\n",
      "pos        0.810      0.773     \n",
      "neg        0.828      0.857     \n",
      "\n",
      "Overall Accuracy: 0.820\n",
      "\n",
      "Decision Tree Classifier:\n",
      "\n",
      "Class      Precision  Recall    \n",
      "---------------------------------------------\n",
      "pos        0.589      0.750     \n",
      "neg        0.750      0.589     \n",
      "\n",
      "Overall Accuracy: 0.660\n",
      "\n",
      "Maximum Entropy Classifier:\n",
      "\n",
      "Class      Precision  Recall    \n",
      "---------------------------------------------\n",
      "pos        0.524      1.000     \n",
      "neg        1.000      0.286     \n",
      "\n",
      "Overall Accuracy: 0.600\n"
     ]
    },
    {
     "data": {
      "text/plain": [
       "0.6"
      ]
     },
     "execution_count": 30,
     "metadata": {},
     "output_type": "execute_result"
    }
   ],
   "source": [
    "# evaluate classifiers with new feature aspect: negation words considered\n",
    "\n",
    "print(\"Naive Bayes Classifier:\")\n",
    "evaluate_classifier(bayesclassifier, test_set)\n",
    "\n",
    "print(\"\\nDecision Tree Classifier:\")\n",
    "evaluate_classifier(decisionclassifier, test_set)\n",
    "\n",
    "print(\"\\nMaximum Entropy Classifier:\")\n",
    "evaluate_classifier(maxentropyclassifier, test_set)"
   ]
  },
  {
   "cell_type": "markdown",
   "id": "f751240e-f7df-4a3b-a4bb-bc5b3da050a3",
   "metadata": {},
   "source": [
    "# evaluation \n",
    "The bayes classifier remained pretty consistent after changing the negation, maybe a little better precision for pos , slihgtly better accuracy for the other two models. This shows how powerful naive bayes is , even though it treats words as independent from each other.\n",
    "\n",
    "\n",
    "# conclusion\n",
    "Across all experiments the Naive BAyes classifier outpeformed both Decision Tree and Maximum Entropy classifiers in terms of accuracy precision and recall. removing stopwords did not really improve perfomance, which means common words may still have some use in terms of being useful for classification. This is also true for negation, it did not seem to improve the model significantly. "
   ]
  }
 ],
 "metadata": {
  "kernelspec": {
   "display_name": "Python 3 (ipykernel)",
   "language": "python",
   "name": "python3"
  },
  "language_info": {
   "codemirror_mode": {
    "name": "ipython",
    "version": 3
   },
   "file_extension": ".py",
   "mimetype": "text/x-python",
   "name": "python",
   "nbconvert_exporter": "python",
   "pygments_lexer": "ipython3",
   "version": "3.11.9"
  }
 },
 "nbformat": 4,
 "nbformat_minor": 5
}
